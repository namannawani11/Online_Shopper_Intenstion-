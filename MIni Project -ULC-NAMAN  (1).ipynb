{
 "cells": [
  {
   "cell_type": "code",
   "execution_count": 1,
   "id": "22039edc",
   "metadata": {},
   "outputs": [],
   "source": [
    "import pandas as pd\n",
    "import warnings\n",
    "warnings.filterwarnings('ignore')\n",
    "import numpy as np\n",
    "from matplotlib import pyplot as plt\n",
    "import seaborn as sns\n",
    "import warnings\n",
    "warnings.filterwarnings('ignore')"
   ]
  },
  {
   "cell_type": "raw",
   "id": "4e6e792c",
   "metadata": {},
   "source": [
    "Problem Statement:\n",
    "Based on given data of visitors browsing for online shopping, build different clusters \n",
    "to know whether person is only browsing and visiting multiples pages or also generating\n",
    "revenue for the shoppers as well.  Analyse and compare the clusters formed with the existing Revenue Column.\n",
    "\n",
    "\n",
    "The dataset consists of feature vectors belonging to 12,330 sessions. The dataset was formed so that\n",
    "each session would belong to a different user in a 1-year period to avoid any tendency to a specific \n",
    "campaign, special day, user profile, or period."
   ]
  },
  {
   "cell_type": "raw",
   "id": "204c08c9",
   "metadata": {},
   "source": []
  },
  {
   "cell_type": "code",
   "execution_count": 2,
   "id": "89c80782",
   "metadata": {},
   "outputs": [],
   "source": [
    "df=pd.read_csv('C:/Users/Naman/Downloads/naman python/ulc/mini project/USL_Mini/SET_B/online_shoppers_intention.csv')               "
   ]
  },
  {
   "cell_type": "raw",
   "id": "6721ac3b",
   "metadata": {},
   "source": [
    "# \tPerform required cleaning to bring the uniformity in the data."
   ]
  },
  {
   "cell_type": "code",
   "execution_count": 3,
   "id": "c43c9cea",
   "metadata": {},
   "outputs": [
    {
     "data": {
      "text/plain": [
       "(12330, 18)"
      ]
     },
     "execution_count": 3,
     "metadata": {},
     "output_type": "execute_result"
    }
   ],
   "source": [
    "df.shape"
   ]
  },
  {
   "cell_type": "code",
   "execution_count": 4,
   "id": "05f9df03",
   "metadata": {},
   "outputs": [
    {
     "data": {
      "text/html": [
       "<div>\n",
       "<style scoped>\n",
       "    .dataframe tbody tr th:only-of-type {\n",
       "        vertical-align: middle;\n",
       "    }\n",
       "\n",
       "    .dataframe tbody tr th {\n",
       "        vertical-align: top;\n",
       "    }\n",
       "\n",
       "    .dataframe thead th {\n",
       "        text-align: right;\n",
       "    }\n",
       "</style>\n",
       "<table border=\"1\" class=\"dataframe\">\n",
       "  <thead>\n",
       "    <tr style=\"text-align: right;\">\n",
       "      <th></th>\n",
       "      <th>Administrative</th>\n",
       "      <th>Administrative_Duration</th>\n",
       "      <th>Informational</th>\n",
       "      <th>Informational_Duration</th>\n",
       "      <th>ProductRelated</th>\n",
       "      <th>ProductRelated_Duration</th>\n",
       "      <th>BounceRates</th>\n",
       "      <th>ExitRates</th>\n",
       "      <th>PageValues</th>\n",
       "      <th>SpecialDay</th>\n",
       "      <th>Month</th>\n",
       "      <th>OperatingSystems</th>\n",
       "      <th>Browser</th>\n",
       "      <th>Region</th>\n",
       "      <th>TrafficType</th>\n",
       "      <th>VisitorType</th>\n",
       "      <th>Weekend</th>\n",
       "      <th>Revenue</th>\n",
       "    </tr>\n",
       "  </thead>\n",
       "  <tbody>\n",
       "    <tr>\n",
       "      <th>0</th>\n",
       "      <td>0</td>\n",
       "      <td>0.0</td>\n",
       "      <td>0</td>\n",
       "      <td>0.0</td>\n",
       "      <td>1</td>\n",
       "      <td>0.000000</td>\n",
       "      <td>0.20</td>\n",
       "      <td>0.20</td>\n",
       "      <td>0.0</td>\n",
       "      <td>0.0</td>\n",
       "      <td>Feb</td>\n",
       "      <td>1</td>\n",
       "      <td>1</td>\n",
       "      <td>1</td>\n",
       "      <td>1</td>\n",
       "      <td>Returning_Visitor</td>\n",
       "      <td>False</td>\n",
       "      <td>False</td>\n",
       "    </tr>\n",
       "    <tr>\n",
       "      <th>1</th>\n",
       "      <td>0</td>\n",
       "      <td>0.0</td>\n",
       "      <td>0</td>\n",
       "      <td>0.0</td>\n",
       "      <td>2</td>\n",
       "      <td>64.000000</td>\n",
       "      <td>0.00</td>\n",
       "      <td>0.10</td>\n",
       "      <td>0.0</td>\n",
       "      <td>0.0</td>\n",
       "      <td>Feb</td>\n",
       "      <td>2</td>\n",
       "      <td>2</td>\n",
       "      <td>1</td>\n",
       "      <td>2</td>\n",
       "      <td>Returning_Visitor</td>\n",
       "      <td>False</td>\n",
       "      <td>False</td>\n",
       "    </tr>\n",
       "    <tr>\n",
       "      <th>2</th>\n",
       "      <td>0</td>\n",
       "      <td>0.0</td>\n",
       "      <td>0</td>\n",
       "      <td>0.0</td>\n",
       "      <td>1</td>\n",
       "      <td>0.000000</td>\n",
       "      <td>0.20</td>\n",
       "      <td>0.20</td>\n",
       "      <td>0.0</td>\n",
       "      <td>0.0</td>\n",
       "      <td>Feb</td>\n",
       "      <td>4</td>\n",
       "      <td>1</td>\n",
       "      <td>9</td>\n",
       "      <td>3</td>\n",
       "      <td>Returning_Visitor</td>\n",
       "      <td>False</td>\n",
       "      <td>False</td>\n",
       "    </tr>\n",
       "    <tr>\n",
       "      <th>3</th>\n",
       "      <td>0</td>\n",
       "      <td>0.0</td>\n",
       "      <td>0</td>\n",
       "      <td>0.0</td>\n",
       "      <td>2</td>\n",
       "      <td>2.666667</td>\n",
       "      <td>0.05</td>\n",
       "      <td>0.14</td>\n",
       "      <td>0.0</td>\n",
       "      <td>0.0</td>\n",
       "      <td>Feb</td>\n",
       "      <td>3</td>\n",
       "      <td>2</td>\n",
       "      <td>2</td>\n",
       "      <td>4</td>\n",
       "      <td>Returning_Visitor</td>\n",
       "      <td>False</td>\n",
       "      <td>False</td>\n",
       "    </tr>\n",
       "    <tr>\n",
       "      <th>4</th>\n",
       "      <td>0</td>\n",
       "      <td>0.0</td>\n",
       "      <td>0</td>\n",
       "      <td>0.0</td>\n",
       "      <td>10</td>\n",
       "      <td>627.500000</td>\n",
       "      <td>0.02</td>\n",
       "      <td>0.05</td>\n",
       "      <td>0.0</td>\n",
       "      <td>0.0</td>\n",
       "      <td>Feb</td>\n",
       "      <td>3</td>\n",
       "      <td>3</td>\n",
       "      <td>1</td>\n",
       "      <td>4</td>\n",
       "      <td>Returning_Visitor</td>\n",
       "      <td>True</td>\n",
       "      <td>False</td>\n",
       "    </tr>\n",
       "  </tbody>\n",
       "</table>\n",
       "</div>"
      ],
      "text/plain": [
       "   Administrative  Administrative_Duration  Informational  \\\n",
       "0               0                      0.0              0   \n",
       "1               0                      0.0              0   \n",
       "2               0                      0.0              0   \n",
       "3               0                      0.0              0   \n",
       "4               0                      0.0              0   \n",
       "\n",
       "   Informational_Duration  ProductRelated  ProductRelated_Duration  \\\n",
       "0                     0.0               1                 0.000000   \n",
       "1                     0.0               2                64.000000   \n",
       "2                     0.0               1                 0.000000   \n",
       "3                     0.0               2                 2.666667   \n",
       "4                     0.0              10               627.500000   \n",
       "\n",
       "   BounceRates  ExitRates  PageValues  SpecialDay Month  OperatingSystems  \\\n",
       "0         0.20       0.20         0.0         0.0   Feb                 1   \n",
       "1         0.00       0.10         0.0         0.0   Feb                 2   \n",
       "2         0.20       0.20         0.0         0.0   Feb                 4   \n",
       "3         0.05       0.14         0.0         0.0   Feb                 3   \n",
       "4         0.02       0.05         0.0         0.0   Feb                 3   \n",
       "\n",
       "   Browser  Region  TrafficType        VisitorType  Weekend  Revenue  \n",
       "0        1       1            1  Returning_Visitor    False    False  \n",
       "1        2       1            2  Returning_Visitor    False    False  \n",
       "2        1       9            3  Returning_Visitor    False    False  \n",
       "3        2       2            4  Returning_Visitor    False    False  \n",
       "4        3       1            4  Returning_Visitor     True    False  "
      ]
     },
     "execution_count": 4,
     "metadata": {},
     "output_type": "execute_result"
    }
   ],
   "source": [
    "df.head()"
   ]
  },
  {
   "cell_type": "code",
   "execution_count": 5,
   "id": "789bae05",
   "metadata": {},
   "outputs": [
    {
     "data": {
      "text/plain": [
       "Administrative             0\n",
       "Administrative_Duration    0\n",
       "Informational              0\n",
       "Informational_Duration     0\n",
       "ProductRelated             0\n",
       "ProductRelated_Duration    0\n",
       "BounceRates                0\n",
       "ExitRates                  0\n",
       "PageValues                 0\n",
       "SpecialDay                 0\n",
       "Month                      0\n",
       "OperatingSystems           0\n",
       "Browser                    0\n",
       "Region                     0\n",
       "TrafficType                0\n",
       "VisitorType                0\n",
       "Weekend                    0\n",
       "Revenue                    0\n",
       "dtype: int64"
      ]
     },
     "execution_count": 5,
     "metadata": {},
     "output_type": "execute_result"
    }
   ],
   "source": [
    "df.isnull().sum()\n",
    "#No null value Present"
   ]
  },
  {
   "cell_type": "code",
   "execution_count": 6,
   "id": "e5a8c7e6",
   "metadata": {},
   "outputs": [
    {
     "data": {
      "text/plain": [
       "Administrative               int64\n",
       "Administrative_Duration    float64\n",
       "Informational                int64\n",
       "Informational_Duration     float64\n",
       "ProductRelated               int64\n",
       "ProductRelated_Duration    float64\n",
       "BounceRates                float64\n",
       "ExitRates                  float64\n",
       "PageValues                 float64\n",
       "SpecialDay                 float64\n",
       "Month                       object\n",
       "OperatingSystems             int64\n",
       "Browser                      int64\n",
       "Region                       int64\n",
       "TrafficType                  int64\n",
       "VisitorType                 object\n",
       "Weekend                       bool\n",
       "Revenue                       bool\n",
       "dtype: object"
      ]
     },
     "execution_count": 6,
     "metadata": {},
     "output_type": "execute_result"
    }
   ],
   "source": [
    "df.dtypes"
   ]
  },
  {
   "cell_type": "raw",
   "id": "5fd0459e",
   "metadata": {},
   "source": [
    "\tPerform required encoding techniques"
   ]
  },
  {
   "cell_type": "code",
   "execution_count": 7,
   "id": "1a0ffcb4",
   "metadata": {},
   "outputs": [
    {
     "data": {
      "text/plain": [
       "False    10422\n",
       "True      1908\n",
       "Name: Revenue, dtype: int64"
      ]
     },
     "execution_count": 7,
     "metadata": {},
     "output_type": "execute_result"
    }
   ],
   "source": [
    "df['Revenue'].value_counts()"
   ]
  },
  {
   "cell_type": "code",
   "execution_count": 8,
   "id": "4bdfc711",
   "metadata": {},
   "outputs": [],
   "source": [
    "df['Revenue']=pd.get_dummies(df['Revenue'],drop_first=True)\n",
    "df['Weekend']=pd.get_dummies(df['Weekend'],drop_first=True)"
   ]
  },
  {
   "cell_type": "code",
   "execution_count": 9,
   "id": "930d514d",
   "metadata": {},
   "outputs": [
    {
     "data": {
      "text/plain": [
       "Returning_Visitor    10551\n",
       "New_Visitor           1694\n",
       "Other                   85\n",
       "Name: VisitorType, dtype: int64"
      ]
     },
     "execution_count": 9,
     "metadata": {},
     "output_type": "execute_result"
    }
   ],
   "source": [
    "df['VisitorType'].value_counts()"
   ]
  },
  {
   "cell_type": "code",
   "execution_count": 10,
   "id": "3e5c7d08",
   "metadata": {},
   "outputs": [
    {
     "data": {
      "text/plain": [
       "May     3364\n",
       "Nov     2998\n",
       "Mar     1907\n",
       "Dec     1727\n",
       "Oct      549\n",
       "Sep      448\n",
       "Aug      433\n",
       "Jul      432\n",
       "June     288\n",
       "Feb      184\n",
       "Name: Month, dtype: int64"
      ]
     },
     "execution_count": 10,
     "metadata": {},
     "output_type": "execute_result"
    }
   ],
   "source": [
    "df['Month'].value_counts()"
   ]
  },
  {
   "cell_type": "code",
   "execution_count": 11,
   "id": "c6ed41b8",
   "metadata": {},
   "outputs": [
    {
     "data": {
      "text/html": [
       "<div>\n",
       "<style scoped>\n",
       "    .dataframe tbody tr th:only-of-type {\n",
       "        vertical-align: middle;\n",
       "    }\n",
       "\n",
       "    .dataframe tbody tr th {\n",
       "        vertical-align: top;\n",
       "    }\n",
       "\n",
       "    .dataframe thead th {\n",
       "        text-align: right;\n",
       "    }\n",
       "</style>\n",
       "<table border=\"1\" class=\"dataframe\">\n",
       "  <thead>\n",
       "    <tr style=\"text-align: right;\">\n",
       "      <th></th>\n",
       "      <th>Administrative</th>\n",
       "      <th>Administrative_Duration</th>\n",
       "      <th>Informational</th>\n",
       "      <th>Informational_Duration</th>\n",
       "      <th>ProductRelated</th>\n",
       "      <th>ProductRelated_Duration</th>\n",
       "      <th>BounceRates</th>\n",
       "      <th>ExitRates</th>\n",
       "      <th>PageValues</th>\n",
       "      <th>SpecialDay</th>\n",
       "      <th>OperatingSystems</th>\n",
       "      <th>Browser</th>\n",
       "      <th>Region</th>\n",
       "      <th>TrafficType</th>\n",
       "      <th>Weekend</th>\n",
       "      <th>Revenue</th>\n",
       "    </tr>\n",
       "  </thead>\n",
       "  <tbody>\n",
       "    <tr>\n",
       "      <th>0</th>\n",
       "      <td>0</td>\n",
       "      <td>0.0</td>\n",
       "      <td>0</td>\n",
       "      <td>0.0</td>\n",
       "      <td>1</td>\n",
       "      <td>0.000000</td>\n",
       "      <td>0.200000</td>\n",
       "      <td>0.200000</td>\n",
       "      <td>0.000000</td>\n",
       "      <td>0.0</td>\n",
       "      <td>1</td>\n",
       "      <td>1</td>\n",
       "      <td>1</td>\n",
       "      <td>1</td>\n",
       "      <td>0</td>\n",
       "      <td>0</td>\n",
       "    </tr>\n",
       "    <tr>\n",
       "      <th>1</th>\n",
       "      <td>0</td>\n",
       "      <td>0.0</td>\n",
       "      <td>0</td>\n",
       "      <td>0.0</td>\n",
       "      <td>2</td>\n",
       "      <td>64.000000</td>\n",
       "      <td>0.000000</td>\n",
       "      <td>0.100000</td>\n",
       "      <td>0.000000</td>\n",
       "      <td>0.0</td>\n",
       "      <td>2</td>\n",
       "      <td>2</td>\n",
       "      <td>1</td>\n",
       "      <td>2</td>\n",
       "      <td>0</td>\n",
       "      <td>0</td>\n",
       "    </tr>\n",
       "    <tr>\n",
       "      <th>2</th>\n",
       "      <td>0</td>\n",
       "      <td>0.0</td>\n",
       "      <td>0</td>\n",
       "      <td>0.0</td>\n",
       "      <td>1</td>\n",
       "      <td>0.000000</td>\n",
       "      <td>0.200000</td>\n",
       "      <td>0.200000</td>\n",
       "      <td>0.000000</td>\n",
       "      <td>0.0</td>\n",
       "      <td>4</td>\n",
       "      <td>1</td>\n",
       "      <td>9</td>\n",
       "      <td>3</td>\n",
       "      <td>0</td>\n",
       "      <td>0</td>\n",
       "    </tr>\n",
       "    <tr>\n",
       "      <th>3</th>\n",
       "      <td>0</td>\n",
       "      <td>0.0</td>\n",
       "      <td>0</td>\n",
       "      <td>0.0</td>\n",
       "      <td>2</td>\n",
       "      <td>2.666667</td>\n",
       "      <td>0.050000</td>\n",
       "      <td>0.140000</td>\n",
       "      <td>0.000000</td>\n",
       "      <td>0.0</td>\n",
       "      <td>3</td>\n",
       "      <td>2</td>\n",
       "      <td>2</td>\n",
       "      <td>4</td>\n",
       "      <td>0</td>\n",
       "      <td>0</td>\n",
       "    </tr>\n",
       "    <tr>\n",
       "      <th>4</th>\n",
       "      <td>0</td>\n",
       "      <td>0.0</td>\n",
       "      <td>0</td>\n",
       "      <td>0.0</td>\n",
       "      <td>10</td>\n",
       "      <td>627.500000</td>\n",
       "      <td>0.020000</td>\n",
       "      <td>0.050000</td>\n",
       "      <td>0.000000</td>\n",
       "      <td>0.0</td>\n",
       "      <td>3</td>\n",
       "      <td>3</td>\n",
       "      <td>1</td>\n",
       "      <td>4</td>\n",
       "      <td>1</td>\n",
       "      <td>0</td>\n",
       "    </tr>\n",
       "    <tr>\n",
       "      <th>...</th>\n",
       "      <td>...</td>\n",
       "      <td>...</td>\n",
       "      <td>...</td>\n",
       "      <td>...</td>\n",
       "      <td>...</td>\n",
       "      <td>...</td>\n",
       "      <td>...</td>\n",
       "      <td>...</td>\n",
       "      <td>...</td>\n",
       "      <td>...</td>\n",
       "      <td>...</td>\n",
       "      <td>...</td>\n",
       "      <td>...</td>\n",
       "      <td>...</td>\n",
       "      <td>...</td>\n",
       "      <td>...</td>\n",
       "    </tr>\n",
       "    <tr>\n",
       "      <th>12325</th>\n",
       "      <td>3</td>\n",
       "      <td>145.0</td>\n",
       "      <td>0</td>\n",
       "      <td>0.0</td>\n",
       "      <td>53</td>\n",
       "      <td>1783.791667</td>\n",
       "      <td>0.007143</td>\n",
       "      <td>0.029031</td>\n",
       "      <td>12.241717</td>\n",
       "      <td>0.0</td>\n",
       "      <td>4</td>\n",
       "      <td>6</td>\n",
       "      <td>1</td>\n",
       "      <td>1</td>\n",
       "      <td>1</td>\n",
       "      <td>0</td>\n",
       "    </tr>\n",
       "    <tr>\n",
       "      <th>12326</th>\n",
       "      <td>0</td>\n",
       "      <td>0.0</td>\n",
       "      <td>0</td>\n",
       "      <td>0.0</td>\n",
       "      <td>5</td>\n",
       "      <td>465.750000</td>\n",
       "      <td>0.000000</td>\n",
       "      <td>0.021333</td>\n",
       "      <td>0.000000</td>\n",
       "      <td>0.0</td>\n",
       "      <td>3</td>\n",
       "      <td>2</td>\n",
       "      <td>1</td>\n",
       "      <td>8</td>\n",
       "      <td>1</td>\n",
       "      <td>0</td>\n",
       "    </tr>\n",
       "    <tr>\n",
       "      <th>12327</th>\n",
       "      <td>0</td>\n",
       "      <td>0.0</td>\n",
       "      <td>0</td>\n",
       "      <td>0.0</td>\n",
       "      <td>6</td>\n",
       "      <td>184.250000</td>\n",
       "      <td>0.083333</td>\n",
       "      <td>0.086667</td>\n",
       "      <td>0.000000</td>\n",
       "      <td>0.0</td>\n",
       "      <td>3</td>\n",
       "      <td>2</td>\n",
       "      <td>1</td>\n",
       "      <td>13</td>\n",
       "      <td>1</td>\n",
       "      <td>0</td>\n",
       "    </tr>\n",
       "    <tr>\n",
       "      <th>12328</th>\n",
       "      <td>4</td>\n",
       "      <td>75.0</td>\n",
       "      <td>0</td>\n",
       "      <td>0.0</td>\n",
       "      <td>15</td>\n",
       "      <td>346.000000</td>\n",
       "      <td>0.000000</td>\n",
       "      <td>0.021053</td>\n",
       "      <td>0.000000</td>\n",
       "      <td>0.0</td>\n",
       "      <td>2</td>\n",
       "      <td>2</td>\n",
       "      <td>3</td>\n",
       "      <td>11</td>\n",
       "      <td>0</td>\n",
       "      <td>0</td>\n",
       "    </tr>\n",
       "    <tr>\n",
       "      <th>12329</th>\n",
       "      <td>0</td>\n",
       "      <td>0.0</td>\n",
       "      <td>0</td>\n",
       "      <td>0.0</td>\n",
       "      <td>3</td>\n",
       "      <td>21.250000</td>\n",
       "      <td>0.000000</td>\n",
       "      <td>0.066667</td>\n",
       "      <td>0.000000</td>\n",
       "      <td>0.0</td>\n",
       "      <td>3</td>\n",
       "      <td>2</td>\n",
       "      <td>1</td>\n",
       "      <td>2</td>\n",
       "      <td>1</td>\n",
       "      <td>0</td>\n",
       "    </tr>\n",
       "  </tbody>\n",
       "</table>\n",
       "<p>12330 rows × 16 columns</p>\n",
       "</div>"
      ],
      "text/plain": [
       "       Administrative  Administrative_Duration  Informational  \\\n",
       "0                   0                      0.0              0   \n",
       "1                   0                      0.0              0   \n",
       "2                   0                      0.0              0   \n",
       "3                   0                      0.0              0   \n",
       "4                   0                      0.0              0   \n",
       "...               ...                      ...            ...   \n",
       "12325               3                    145.0              0   \n",
       "12326               0                      0.0              0   \n",
       "12327               0                      0.0              0   \n",
       "12328               4                     75.0              0   \n",
       "12329               0                      0.0              0   \n",
       "\n",
       "       Informational_Duration  ProductRelated  ProductRelated_Duration  \\\n",
       "0                         0.0               1                 0.000000   \n",
       "1                         0.0               2                64.000000   \n",
       "2                         0.0               1                 0.000000   \n",
       "3                         0.0               2                 2.666667   \n",
       "4                         0.0              10               627.500000   \n",
       "...                       ...             ...                      ...   \n",
       "12325                     0.0              53              1783.791667   \n",
       "12326                     0.0               5               465.750000   \n",
       "12327                     0.0               6               184.250000   \n",
       "12328                     0.0              15               346.000000   \n",
       "12329                     0.0               3                21.250000   \n",
       "\n",
       "       BounceRates  ExitRates  PageValues  SpecialDay  OperatingSystems  \\\n",
       "0         0.200000   0.200000    0.000000         0.0                 1   \n",
       "1         0.000000   0.100000    0.000000         0.0                 2   \n",
       "2         0.200000   0.200000    0.000000         0.0                 4   \n",
       "3         0.050000   0.140000    0.000000         0.0                 3   \n",
       "4         0.020000   0.050000    0.000000         0.0                 3   \n",
       "...            ...        ...         ...         ...               ...   \n",
       "12325     0.007143   0.029031   12.241717         0.0                 4   \n",
       "12326     0.000000   0.021333    0.000000         0.0                 3   \n",
       "12327     0.083333   0.086667    0.000000         0.0                 3   \n",
       "12328     0.000000   0.021053    0.000000         0.0                 2   \n",
       "12329     0.000000   0.066667    0.000000         0.0                 3   \n",
       "\n",
       "       Browser  Region  TrafficType  Weekend  Revenue  \n",
       "0            1       1            1        0        0  \n",
       "1            2       1            2        0        0  \n",
       "2            1       9            3        0        0  \n",
       "3            2       2            4        0        0  \n",
       "4            3       1            4        1        0  \n",
       "...        ...     ...          ...      ...      ...  \n",
       "12325        6       1            1        1        0  \n",
       "12326        2       1            8        1        0  \n",
       "12327        2       1           13        1        0  \n",
       "12328        2       3           11        0        0  \n",
       "12329        2       1            2        1        0  \n",
       "\n",
       "[12330 rows x 16 columns]"
      ]
     },
     "execution_count": 11,
     "metadata": {},
     "output_type": "execute_result"
    }
   ],
   "source": [
    "num=df.select_dtypes(include=np.number)\n",
    "num"
   ]
  },
  {
   "cell_type": "markdown",
   "id": "9b984b52",
   "metadata": {},
   "source": [
    "# Carry-out uni-variate, Bi-variate and Multti-varaiate analysis to understand the data relationships."
   ]
  },
  {
   "cell_type": "markdown",
   "id": "2e35a299",
   "metadata": {},
   "source": [
    "#HEAT MAP"
   ]
  },
  {
   "cell_type": "code",
   "execution_count": 12,
   "id": "8d176313",
   "metadata": {},
   "outputs": [
    {
     "data": {
      "text/plain": [
       "<AxesSubplot:>"
      ]
     },
     "execution_count": 12,
     "metadata": {},
     "output_type": "execute_result"
    },
    {
     "data": {
      "image/png": "[encoded data removed]",
      "text/plain": [
       "<Figure size 432x288 with 2 Axes>"
      ]
     },
     "metadata": {
      "needs_background": "light"
     },
     "output_type": "display_data"
    }
   ],
   "source": [
    "plt.figure(figsize=[6,4])\n",
    "sns.heatmap(df.corr()[df.corr()>0.7],annot=True)\n",
    "#No multicolinarity present."
   ]
  },
  {
   "cell_type": "code",
   "execution_count": 13,
   "id": "ad86b09a",
   "metadata": {},
   "outputs": [],
   "source": [
    "#HIGH Multicilinarity btw Bounce rates and exit rates\n",
    "#Product Related_Duration and Product related "
   ]
  },
  {
   "cell_type": "markdown",
   "id": "d7abfac6",
   "metadata": {},
   "source": [
    "Univariate Analysis"
   ]
  },
  {
   "cell_type": "code",
   "execution_count": 14,
   "id": "ac271d0c",
   "metadata": {},
   "outputs": [
    {
     "data": {
      "text/plain": [
       "(array([ 1,  2,  3,  4,  5,  6,  7,  8,  9, 10, 11, 12, 13, 14, 15, 16]),\n",
       " [Text(1, 0, 'Administrative'),\n",
       "  Text(2, 0, 'Administrative_Duration'),\n",
       "  Text(3, 0, 'Informational'),\n",
       "  Text(4, 0, 'Informational_Duration'),\n",
       "  Text(5, 0, 'ProductRelated'),\n",
       "  Text(6, 0, 'ProductRelated_Duration'),\n",
       "  Text(7, 0, 'BounceRates'),\n",
       "  Text(8, 0, 'ExitRates'),\n",
       "  Text(9, 0, 'PageValues'),\n",
       "  Text(10, 0, 'SpecialDay'),\n",
       "  Text(11, 0, 'OperatingSystems'),\n",
       "  Text(12, 0, 'Browser'),\n",
       "  Text(13, 0, 'Region'),\n",
       "  Text(14, 0, 'TrafficType'),\n",
       "  Text(15, 0, 'Weekend'),\n",
       "  Text(16, 0, 'Revenue')])"
      ]
     },
     "execution_count": 14,
     "metadata": {},
     "output_type": "execute_result"
    },
    {
     "data": {
      "image/png": "[encoded data removed]",
      "text/plain": [
       "<Figure size 576x432 with 1 Axes>"
      ]
     },
     "metadata": {
      "needs_background": "light"
     },
     "output_type": "display_data"
    }
   ],
   "source": [
    "plt.figure(figsize=(8,6))\n",
    "\n",
    "num.boxplot()\n",
    "plt.xticks(rotation=90)"
   ]
  },
  {
   "cell_type": "code",
   "execution_count": 15,
   "id": "5e7071e9",
   "metadata": {},
   "outputs": [],
   "source": [
    "# we observe outlier are present "
   ]
  },
  {
   "cell_type": "markdown",
   "id": "98300858",
   "metadata": {},
   "source": [
    "# Bivariate analysis"
   ]
  },
  {
   "cell_type": "markdown",
   "id": "f337e6da",
   "metadata": {},
   "source": [
    "Categorical "
   ]
  },
  {
   "cell_type": "code",
   "execution_count": 16,
   "id": "9dda0fa8",
   "metadata": {},
   "outputs": [
    {
     "data": {
      "text/plain": [
       "Index(['Month', 'VisitorType'], dtype='object')"
      ]
     },
     "execution_count": 16,
     "metadata": {},
     "output_type": "execute_result"
    }
   ],
   "source": [
    "cols=df.select_dtypes(exclude=np.number)\n",
    "col=cols.columns\n",
    "col"
   ]
  },
  {
   "cell_type": "code",
   "execution_count": 17,
   "id": "d88df3c0",
   "metadata": {},
   "outputs": [
    {
     "data": {
      "text/plain": [
       "<AxesSubplot:xlabel='Month', ylabel='count'>"
      ]
     },
     "execution_count": 17,
     "metadata": {},
     "output_type": "execute_result"
    },
    {
     "data": {
      "image/png": "[encoded data removed]",
      "text/plain": [
       "<Figure size 432x288 with 1 Axes>"
      ]
     },
     "metadata": {
      "needs_background": "light"
     },
     "output_type": "display_data"
    }
   ],
   "source": [
    "# Plotting the Cat Vs Target Variable\n",
    "sns.countplot(x=df['Month'],hue=df['Revenue'])"
   ]
  },
  {
   "cell_type": "code",
   "execution_count": 18,
   "id": "a8316a4f",
   "metadata": {},
   "outputs": [],
   "source": [
    "#we observe that Revenue is highest in november month "
   ]
  },
  {
   "cell_type": "code",
   "execution_count": 19,
   "id": "c9b2dbe7",
   "metadata": {},
   "outputs": [
    {
     "data": {
      "text/plain": [
       "<AxesSubplot:xlabel='VisitorType', ylabel='count'>"
      ]
     },
     "execution_count": 19,
     "metadata": {},
     "output_type": "execute_result"
    },
    {
     "data": {
      "image/png": "[encoded data removed]",
      "text/plain": [
       "<Figure size 432x288 with 1 Axes>"
      ]
     },
     "metadata": {
      "needs_background": "light"
     },
     "output_type": "display_data"
    }
   ],
   "source": [
    "sns.countplot(x=df['VisitorType'],hue=df['Revenue'])"
   ]
  },
  {
   "cell_type": "code",
   "execution_count": 20,
   "id": "bbeb5510",
   "metadata": {},
   "outputs": [],
   "source": [
    "# Returning visitor gives highest revenue "
   ]
  },
  {
   "cell_type": "code",
   "execution_count": 21,
   "id": "c041fafc",
   "metadata": {},
   "outputs": [],
   "source": [
    "#NUmerical columns"
   ]
  },
  {
   "cell_type": "code",
   "execution_count": 22,
   "id": "bc9218a8",
   "metadata": {},
   "outputs": [
    {
     "data": {
      "text/plain": [
       "Index(['Administrative', 'Administrative_Duration', 'Informational',\n",
       "       'Informational_Duration', 'ProductRelated', 'ProductRelated_Duration',\n",
       "       'BounceRates', 'ExitRates', 'PageValues', 'SpecialDay',\n",
       "       'OperatingSystems', 'Browser', 'Region', 'TrafficType', 'Weekend',\n",
       "       'Revenue'],\n",
       "      dtype='object')"
      ]
     },
     "execution_count": 22,
     "metadata": {},
     "output_type": "execute_result"
    }
   ],
   "source": [
    "num.columns"
   ]
  },
  {
   "cell_type": "code",
   "execution_count": 23,
   "id": "145aa3e6",
   "metadata": {},
   "outputs": [],
   "source": [
    "num_col=df[['Administrative', 'Administrative_Duration', 'Informational',\n",
    "       'Informational_Duration', 'ProductRelated', 'ProductRelated_Duration',\n",
    "       'BounceRates', 'ExitRates', 'PageValues', 'SpecialDay',\n",
    "       'OperatingSystems', 'Browser', 'Region', 'TrafficType', 'Weekend']]"
   ]
  },
  {
   "cell_type": "code",
   "execution_count": 24,
   "id": "d4e22f39",
   "metadata": {},
   "outputs": [
    {
     "data": {
      "image/png": "[encoded data removed]",
      "text/plain": [
       "<Figure size 1080x576 with 16 Axes>"
      ]
     },
     "metadata": {
      "needs_background": "light"
     },
     "output_type": "display_data"
    }
   ],
   "source": [
    "num_col.hist(bins=15,figsize=(15,8))\n",
    "plt.tight_layout()\n"
   ]
  },
  {
   "cell_type": "raw",
   "id": "57e08457",
   "metadata": {},
   "source": [
    "\tPerform required missing value treatment"
   ]
  },
  {
   "cell_type": "markdown",
   "id": "b31b1992",
   "metadata": {},
   "source": [
    "# \tPerform Outlier treatment if required"
   ]
  },
  {
   "cell_type": "code",
   "execution_count": 25,
   "id": "0f992b4e",
   "metadata": {},
   "outputs": [],
   "source": [
    "from sklearn.preprocessing import LabelEncoder\n",
    "le=LabelEncoder()\n",
    "df['Month']=le.fit_transform(df['Month'])"
   ]
  },
  {
   "cell_type": "code",
   "execution_count": 26,
   "id": "a3bb1232",
   "metadata": {},
   "outputs": [],
   "source": [
    "df['VisitorType']=le.fit_transform(df['VisitorType'])"
   ]
  },
  {
   "cell_type": "code",
   "execution_count": 27,
   "id": "829bebb4",
   "metadata": {},
   "outputs": [
    {
     "name": "stdout",
     "output_type": "stream",
     "text": [
      "<class 'pandas.core.frame.DataFrame'>\n",
      "RangeIndex: 12330 entries, 0 to 12329\n",
      "Data columns (total 18 columns):\n",
      " #   Column                   Non-Null Count  Dtype  \n",
      "---  ------                   --------------  -----  \n",
      " 0   Administrative           12330 non-null  int64  \n",
      " 1   Administrative_Duration  12330 non-null  float64\n",
      " 2   Informational            12330 non-null  int64  \n",
      " 3   Informational_Duration   12330 non-null  float64\n",
      " 4   ProductRelated           12330 non-null  int64  \n",
      " 5   ProductRelated_Duration  12330 non-null  float64\n",
      " 6   BounceRates              12330 non-null  float64\n",
      " 7   ExitRates                12330 non-null  float64\n",
      " 8   PageValues               12330 non-null  float64\n",
      " 9   SpecialDay               12330 non-null  float64\n",
      " 10  Month                    12330 non-null  int32  \n",
      " 11  OperatingSystems         12330 non-null  int64  \n",
      " 12  Browser                  12330 non-null  int64  \n",
      " 13  Region                   12330 non-null  int64  \n",
      " 14  TrafficType              12330 non-null  int64  \n",
      " 15  VisitorType              12330 non-null  int32  \n",
      " 16  Weekend                  12330 non-null  uint8  \n",
      " 17  Revenue                  12330 non-null  uint8  \n",
      "dtypes: float64(7), int32(2), int64(7), uint8(2)\n",
      "memory usage: 1.4 MB\n"
     ]
    }
   ],
   "source": [
    "df.info()"
   ]
  },
  {
   "cell_type": "code",
   "execution_count": 28,
   "id": "847591b8",
   "metadata": {},
   "outputs": [],
   "source": [
    "df_new_=df"
   ]
  },
  {
   "cell_type": "code",
   "execution_count": 29,
   "id": "c3904e95",
   "metadata": {},
   "outputs": [
    {
     "data": {
      "text/plain": [
       "(12330, 18)"
      ]
     },
     "execution_count": 29,
     "metadata": {},
     "output_type": "execute_result"
    }
   ],
   "source": [
    "df_new_.shape"
   ]
  },
  {
   "cell_type": "code",
   "execution_count": 30,
   "id": "a8adc208",
   "metadata": {},
   "outputs": [],
   "source": [
    "df_wt=df_new_.drop('Revenue',axis=1)"
   ]
  },
  {
   "cell_type": "code",
   "execution_count": 31,
   "id": "8dfe327d",
   "metadata": {},
   "outputs": [],
   "source": [
    "Df_n=df_new_.copy()"
   ]
  },
  {
   "cell_type": "code",
   "execution_count": 32,
   "id": "be69bd27",
   "metadata": {},
   "outputs": [
    {
     "data": {
      "text/html": [
       "<div>\n",
       "<style scoped>\n",
       "    .dataframe tbody tr th:only-of-type {\n",
       "        vertical-align: middle;\n",
       "    }\n",
       "\n",
       "    .dataframe tbody tr th {\n",
       "        vertical-align: top;\n",
       "    }\n",
       "\n",
       "    .dataframe thead th {\n",
       "        text-align: right;\n",
       "    }\n",
       "</style>\n",
       "<table border=\"1\" class=\"dataframe\">\n",
       "  <thead>\n",
       "    <tr style=\"text-align: right;\">\n",
       "      <th></th>\n",
       "      <th>Administrative</th>\n",
       "      <th>Administrative_Duration</th>\n",
       "      <th>Informational</th>\n",
       "      <th>Informational_Duration</th>\n",
       "      <th>ProductRelated</th>\n",
       "      <th>ProductRelated_Duration</th>\n",
       "      <th>BounceRates</th>\n",
       "      <th>ExitRates</th>\n",
       "      <th>PageValues</th>\n",
       "      <th>SpecialDay</th>\n",
       "      <th>Month</th>\n",
       "      <th>OperatingSystems</th>\n",
       "      <th>Browser</th>\n",
       "      <th>Region</th>\n",
       "      <th>TrafficType</th>\n",
       "      <th>VisitorType</th>\n",
       "      <th>Weekend</th>\n",
       "      <th>Revenue</th>\n",
       "    </tr>\n",
       "  </thead>\n",
       "  <tbody>\n",
       "    <tr>\n",
       "      <th>0</th>\n",
       "      <td>0</td>\n",
       "      <td>0.0</td>\n",
       "      <td>0</td>\n",
       "      <td>0.0</td>\n",
       "      <td>1</td>\n",
       "      <td>0.000000</td>\n",
       "      <td>0.20</td>\n",
       "      <td>0.20</td>\n",
       "      <td>0.0</td>\n",
       "      <td>0.0</td>\n",
       "      <td>2</td>\n",
       "      <td>1</td>\n",
       "      <td>1</td>\n",
       "      <td>1</td>\n",
       "      <td>1</td>\n",
       "      <td>2</td>\n",
       "      <td>0</td>\n",
       "      <td>0</td>\n",
       "    </tr>\n",
       "    <tr>\n",
       "      <th>1</th>\n",
       "      <td>0</td>\n",
       "      <td>0.0</td>\n",
       "      <td>0</td>\n",
       "      <td>0.0</td>\n",
       "      <td>2</td>\n",
       "      <td>64.000000</td>\n",
       "      <td>0.00</td>\n",
       "      <td>0.10</td>\n",
       "      <td>0.0</td>\n",
       "      <td>0.0</td>\n",
       "      <td>2</td>\n",
       "      <td>2</td>\n",
       "      <td>2</td>\n",
       "      <td>1</td>\n",
       "      <td>2</td>\n",
       "      <td>2</td>\n",
       "      <td>0</td>\n",
       "      <td>0</td>\n",
       "    </tr>\n",
       "    <tr>\n",
       "      <th>2</th>\n",
       "      <td>0</td>\n",
       "      <td>0.0</td>\n",
       "      <td>0</td>\n",
       "      <td>0.0</td>\n",
       "      <td>1</td>\n",
       "      <td>0.000000</td>\n",
       "      <td>0.20</td>\n",
       "      <td>0.20</td>\n",
       "      <td>0.0</td>\n",
       "      <td>0.0</td>\n",
       "      <td>2</td>\n",
       "      <td>4</td>\n",
       "      <td>1</td>\n",
       "      <td>9</td>\n",
       "      <td>3</td>\n",
       "      <td>2</td>\n",
       "      <td>0</td>\n",
       "      <td>0</td>\n",
       "    </tr>\n",
       "    <tr>\n",
       "      <th>3</th>\n",
       "      <td>0</td>\n",
       "      <td>0.0</td>\n",
       "      <td>0</td>\n",
       "      <td>0.0</td>\n",
       "      <td>2</td>\n",
       "      <td>2.666667</td>\n",
       "      <td>0.05</td>\n",
       "      <td>0.14</td>\n",
       "      <td>0.0</td>\n",
       "      <td>0.0</td>\n",
       "      <td>2</td>\n",
       "      <td>3</td>\n",
       "      <td>2</td>\n",
       "      <td>2</td>\n",
       "      <td>4</td>\n",
       "      <td>2</td>\n",
       "      <td>0</td>\n",
       "      <td>0</td>\n",
       "    </tr>\n",
       "    <tr>\n",
       "      <th>4</th>\n",
       "      <td>0</td>\n",
       "      <td>0.0</td>\n",
       "      <td>0</td>\n",
       "      <td>0.0</td>\n",
       "      <td>10</td>\n",
       "      <td>627.500000</td>\n",
       "      <td>0.02</td>\n",
       "      <td>0.05</td>\n",
       "      <td>0.0</td>\n",
       "      <td>0.0</td>\n",
       "      <td>2</td>\n",
       "      <td>3</td>\n",
       "      <td>3</td>\n",
       "      <td>1</td>\n",
       "      <td>4</td>\n",
       "      <td>2</td>\n",
       "      <td>1</td>\n",
       "      <td>0</td>\n",
       "    </tr>\n",
       "  </tbody>\n",
       "</table>\n",
       "</div>"
      ],
      "text/plain": [
       "   Administrative  Administrative_Duration  Informational  \\\n",
       "0               0                      0.0              0   \n",
       "1               0                      0.0              0   \n",
       "2               0                      0.0              0   \n",
       "3               0                      0.0              0   \n",
       "4               0                      0.0              0   \n",
       "\n",
       "   Informational_Duration  ProductRelated  ProductRelated_Duration  \\\n",
       "0                     0.0               1                 0.000000   \n",
       "1                     0.0               2                64.000000   \n",
       "2                     0.0               1                 0.000000   \n",
       "3                     0.0               2                 2.666667   \n",
       "4                     0.0              10               627.500000   \n",
       "\n",
       "   BounceRates  ExitRates  PageValues  SpecialDay  Month  OperatingSystems  \\\n",
       "0         0.20       0.20         0.0         0.0      2                 1   \n",
       "1         0.00       0.10         0.0         0.0      2                 2   \n",
       "2         0.20       0.20         0.0         0.0      2                 4   \n",
       "3         0.05       0.14         0.0         0.0      2                 3   \n",
       "4         0.02       0.05         0.0         0.0      2                 3   \n",
       "\n",
       "   Browser  Region  TrafficType  VisitorType  Weekend  Revenue  \n",
       "0        1       1            1            2        0        0  \n",
       "1        2       1            2            2        0        0  \n",
       "2        1       9            3            2        0        0  \n",
       "3        2       2            4            2        0        0  \n",
       "4        3       1            4            2        1        0  "
      ]
     },
     "execution_count": 32,
     "metadata": {},
     "output_type": "execute_result"
    }
   ],
   "source": [
    "df_new_.head()"
   ]
  },
  {
   "cell_type": "code",
   "execution_count": 33,
   "id": "754fd208",
   "metadata": {},
   "outputs": [
    {
     "data": {
      "text/plain": [
       "(array([ 1,  2,  3,  4,  5,  6,  7,  8,  9, 10, 11, 12, 13, 14, 15, 16, 17,\n",
       "        18]),\n",
       " [Text(1, 0, 'Administrative'),\n",
       "  Text(2, 0, 'Administrative_Duration'),\n",
       "  Text(3, 0, 'Informational'),\n",
       "  Text(4, 0, 'Informational_Duration'),\n",
       "  Text(5, 0, 'ProductRelated'),\n",
       "  Text(6, 0, 'ProductRelated_Duration'),\n",
       "  Text(7, 0, 'BounceRates'),\n",
       "  Text(8, 0, 'ExitRates'),\n",
       "  Text(9, 0, 'PageValues'),\n",
       "  Text(10, 0, 'SpecialDay'),\n",
       "  Text(11, 0, 'Month'),\n",
       "  Text(12, 0, 'OperatingSystems'),\n",
       "  Text(13, 0, 'Browser'),\n",
       "  Text(14, 0, 'Region'),\n",
       "  Text(15, 0, 'TrafficType'),\n",
       "  Text(16, 0, 'VisitorType'),\n",
       "  Text(17, 0, 'Weekend'),\n",
       "  Text(18, 0, 'Revenue')])"
      ]
     },
     "execution_count": 33,
     "metadata": {},
     "output_type": "execute_result"
    },
    {
     "data": {
      "image/png": "[encoded data removed]",
      "text/plain": [
       "<Figure size 576x432 with 1 Axes>"
      ]
     },
     "metadata": {
      "needs_background": "light"
     },
     "output_type": "display_data"
    }
   ],
   "source": [
    "plt.figure(figsize=(8,6))\n",
    "\n",
    "df_new_.boxplot()\n",
    "plt.xticks(rotation=90)"
   ]
  },
  {
   "cell_type": "raw",
   "id": "31283fcc",
   "metadata": {},
   "source": [
    "\tPerform appropriate scaling"
   ]
  },
  {
   "cell_type": "code",
   "execution_count": 34,
   "id": "eb3d38b4",
   "metadata": {},
   "outputs": [],
   "source": [
    "from sklearn.preprocessing import StandardScaler\n",
    "sc=StandardScaler()\n",
    "df_new_.iloc[:,0:14:]=sc.fit_transform(df_new_.iloc[:,0:14:])"
   ]
  },
  {
   "cell_type": "code",
   "execution_count": 35,
   "id": "7e8a81ac",
   "metadata": {},
   "outputs": [
    {
     "data": {
      "text/html": [
       "<div>\n",
       "<style scoped>\n",
       "    .dataframe tbody tr th:only-of-type {\n",
       "        vertical-align: middle;\n",
       "    }\n",
       "\n",
       "    .dataframe tbody tr th {\n",
       "        vertical-align: top;\n",
       "    }\n",
       "\n",
       "    .dataframe thead th {\n",
       "        text-align: right;\n",
       "    }\n",
       "</style>\n",
       "<table border=\"1\" class=\"dataframe\">\n",
       "  <thead>\n",
       "    <tr style=\"text-align: right;\">\n",
       "      <th></th>\n",
       "      <th>Administrative</th>\n",
       "      <th>Administrative_Duration</th>\n",
       "      <th>Informational</th>\n",
       "      <th>Informational_Duration</th>\n",
       "      <th>ProductRelated</th>\n",
       "      <th>ProductRelated_Duration</th>\n",
       "      <th>BounceRates</th>\n",
       "      <th>ExitRates</th>\n",
       "      <th>PageValues</th>\n",
       "      <th>SpecialDay</th>\n",
       "      <th>Month</th>\n",
       "      <th>OperatingSystems</th>\n",
       "      <th>Browser</th>\n",
       "      <th>Region</th>\n",
       "      <th>TrafficType</th>\n",
       "      <th>VisitorType</th>\n",
       "      <th>Weekend</th>\n",
       "      <th>Revenue</th>\n",
       "    </tr>\n",
       "  </thead>\n",
       "  <tbody>\n",
       "    <tr>\n",
       "      <th>0</th>\n",
       "      <td>-0.696993</td>\n",
       "      <td>-0.457191</td>\n",
       "      <td>-0.396478</td>\n",
       "      <td>-0.244931</td>\n",
       "      <td>-0.691003</td>\n",
       "      <td>-0.624348</td>\n",
       "      <td>3.667189</td>\n",
       "      <td>3.229316</td>\n",
       "      <td>-0.317178</td>\n",
       "      <td>-0.308821</td>\n",
       "      <td>-1.334959</td>\n",
       "      <td>-1.233426</td>\n",
       "      <td>-0.790293</td>\n",
       "      <td>-0.894178</td>\n",
       "      <td>1</td>\n",
       "      <td>2</td>\n",
       "      <td>0</td>\n",
       "      <td>0</td>\n",
       "    </tr>\n",
       "    <tr>\n",
       "      <th>1</th>\n",
       "      <td>-0.696993</td>\n",
       "      <td>-0.457191</td>\n",
       "      <td>-0.396478</td>\n",
       "      <td>-0.244931</td>\n",
       "      <td>-0.668518</td>\n",
       "      <td>-0.590903</td>\n",
       "      <td>-0.457683</td>\n",
       "      <td>1.171473</td>\n",
       "      <td>-0.317178</td>\n",
       "      <td>-0.308821</td>\n",
       "      <td>-1.334959</td>\n",
       "      <td>-0.136078</td>\n",
       "      <td>-0.207952</td>\n",
       "      <td>-0.894178</td>\n",
       "      <td>2</td>\n",
       "      <td>2</td>\n",
       "      <td>0</td>\n",
       "      <td>0</td>\n",
       "    </tr>\n",
       "    <tr>\n",
       "      <th>2</th>\n",
       "      <td>-0.696993</td>\n",
       "      <td>-0.457191</td>\n",
       "      <td>-0.396478</td>\n",
       "      <td>-0.244931</td>\n",
       "      <td>-0.691003</td>\n",
       "      <td>-0.624348</td>\n",
       "      <td>3.667189</td>\n",
       "      <td>3.229316</td>\n",
       "      <td>-0.317178</td>\n",
       "      <td>-0.308821</td>\n",
       "      <td>-1.334959</td>\n",
       "      <td>2.058618</td>\n",
       "      <td>-0.790293</td>\n",
       "      <td>2.437081</td>\n",
       "      <td>3</td>\n",
       "      <td>2</td>\n",
       "      <td>0</td>\n",
       "      <td>0</td>\n",
       "    </tr>\n",
       "  </tbody>\n",
       "</table>\n",
       "</div>"
      ],
      "text/plain": [
       "   Administrative  Administrative_Duration  Informational  \\\n",
       "0       -0.696993                -0.457191      -0.396478   \n",
       "1       -0.696993                -0.457191      -0.396478   \n",
       "2       -0.696993                -0.457191      -0.396478   \n",
       "\n",
       "   Informational_Duration  ProductRelated  ProductRelated_Duration  \\\n",
       "0               -0.244931       -0.691003                -0.624348   \n",
       "1               -0.244931       -0.668518                -0.590903   \n",
       "2               -0.244931       -0.691003                -0.624348   \n",
       "\n",
       "   BounceRates  ExitRates  PageValues  SpecialDay     Month  OperatingSystems  \\\n",
       "0     3.667189   3.229316   -0.317178   -0.308821 -1.334959         -1.233426   \n",
       "1    -0.457683   1.171473   -0.317178   -0.308821 -1.334959         -0.136078   \n",
       "2     3.667189   3.229316   -0.317178   -0.308821 -1.334959          2.058618   \n",
       "\n",
       "    Browser    Region  TrafficType  VisitorType  Weekend  Revenue  \n",
       "0 -0.790293 -0.894178            1            2        0        0  \n",
       "1 -0.207952 -0.894178            2            2        0        0  \n",
       "2 -0.790293  2.437081            3            2        0        0  "
      ]
     },
     "execution_count": 35,
     "metadata": {},
     "output_type": "execute_result"
    }
   ],
   "source": [
    "df_new_.head(3)"
   ]
  },
  {
   "cell_type": "markdown",
   "id": "794e5bce",
   "metadata": {},
   "source": [
    "# Using SiIlhotte Score"
   ]
  },
  {
   "cell_type": "code",
   "execution_count": 36,
   "id": "975fa83e",
   "metadata": {},
   "outputs": [],
   "source": [
    "from sklearn.datasets import make_blobs\n",
    "from sklearn.cluster import KMeans\n",
    "from sklearn.metrics import silhouette_samples, silhouette_score"
   ]
  },
  {
   "cell_type": "code",
   "execution_count": 37,
   "id": "68aae89f",
   "metadata": {},
   "outputs": [
    {
     "name": "stdout",
     "output_type": "stream",
     "text": [
      "For n_clusters = 2 The average silhouette_score is : 0.5017727608805614\n",
      "For n_clusters = 3 The average silhouette_score is : 0.3001311293121461\n",
      "For n_clusters = 4 The average silhouette_score is : 0.29656014143579723\n",
      "For n_clusters = 5 The average silhouette_score is : 0.27877005011535677\n",
      "For n_clusters = 6 The average silhouette_score is : 0.251222246429386\n",
      "For n_clusters = 7 The average silhouette_score is : 0.2261812349863538\n"
     ]
    }
   ],
   "source": [
    "range_n_clusters = [2, 3, 4, 5, 6,7]\n",
    "cluster_sil_scores = []\n",
    "cluster_errors = []\n",
    "for n_clusters in range_n_clusters:\n",
    "    clusterer = KMeans(n_clusters=n_clusters, random_state=10)\n",
    "    cluster_labels = clusterer.fit_predict(df_new_)\n",
    "    cluster_sil_scores.append(silhouette_score(df_new_, cluster_labels))\n",
    "    silhouette_avg = silhouette_score(df_new_, cluster_labels)\n",
    "    print(\"For n_clusters =\", n_clusters,\n",
    "          \"The average silhouette_score is :\", silhouette_avg)"
   ]
  },
  {
   "cell_type": "code",
   "execution_count": 38,
   "id": "ab482fb1",
   "metadata": {},
   "outputs": [],
   "source": [
    "# we observe that only 2 cluster give highest score "
   ]
  },
  {
   "cell_type": "code",
   "execution_count": 39,
   "id": "a5a1cf7e",
   "metadata": {},
   "outputs": [],
   "source": [
    "inertia=[]\n",
    "for i in range(1,11):\n",
    "    kmeans=KMeans(n_clusters=i)\n",
    "    kmeans_model=kmeans.fit(df_new_)\n",
    "    inertia.append(kmeans_model.inertia_)\n",
    "    "
   ]
  },
  {
   "cell_type": "code",
   "execution_count": 40,
   "id": "064290f2",
   "metadata": {},
   "outputs": [
    {
     "data": {
      "text/plain": [
       "[<matplotlib.lines.Line2D at 0x1372b9408b0>]"
      ]
     },
     "execution_count": 40,
     "metadata": {},
     "output_type": "execute_result"
    },
    {
     "data": {
      "image/png": "[encoded data removed]",
      "text/plain": [
       "<Figure size 432x288 with 1 Axes>"
      ]
     },
     "metadata": {
      "needs_background": "light"
     },
     "output_type": "display_data"
    }
   ],
   "source": [
    "plt.plot(range(1,11),inertia,color='red')\n",
    "#Elbow is near 2 ."
   ]
  },
  {
   "cell_type": "markdown",
   "id": "9923c37c",
   "metadata": {},
   "source": [
    "# \tMake the appropriate business interpretation using the cluster centroids.\n"
   ]
  },
  {
   "cell_type": "markdown",
   "id": "c0411f6e",
   "metadata": {},
   "source": [
    "# Using Dendogram"
   ]
  },
  {
   "cell_type": "code",
   "execution_count": 41,
   "id": "79047d15",
   "metadata": {},
   "outputs": [
    {
     "data": {
      "image/png": "[encoded data removed]",
      "text/plain": [
       "<Figure size 576x432 with 1 Axes>"
      ]
     },
     "metadata": {
      "needs_background": "light"
     },
     "output_type": "display_data"
    }
   ],
   "source": [
    "from scipy.cluster.hierarchy import dendrogram ,linkage\n",
    "plt.figure(figsize=(8,6))\n",
    "plt.title('Agglomerative Hierarchical Clustering Dendogram')\n",
    "plt.xlabel('sample index')\n",
    "plt.ylabel('Distance')\n",
    "\n",
    "X=df_new_\n",
    "z=linkage(X,'ward')\n",
    "dendrogram(z,p=3,leaf_rotation=90,color_threshold=6,leaf_font_size=10,truncate_mode='level')\n",
    "plt.tight_layout()"
   ]
  },
  {
   "cell_type": "code",
   "execution_count": 42,
   "id": "38f80167",
   "metadata": {},
   "outputs": [],
   "source": [
    "# we observe that only 2 cluster give highest score "
   ]
  },
  {
   "cell_type": "markdown",
   "id": "f2bc57c8",
   "metadata": {},
   "source": [
    "# Using AgglomerativeClustering"
   ]
  },
  {
   "cell_type": "code",
   "execution_count": 43,
   "id": "edbf39ba",
   "metadata": {},
   "outputs": [
    {
     "data": {
      "text/plain": [
       "0    10540\n",
       "1     1790\n",
       "dtype: int64"
      ]
     },
     "execution_count": 43,
     "metadata": {},
     "output_type": "execute_result"
    }
   ],
   "source": [
    "from sklearn.cluster import AgglomerativeClustering\n",
    "agg=AgglomerativeClustering(n_clusters=2)\n",
    "\n",
    "model=agg.fit(X)\n",
    "pd.Series(model.labels_).value_counts()"
   ]
  },
  {
   "cell_type": "code",
   "execution_count": 44,
   "id": "56acd887",
   "metadata": {},
   "outputs": [],
   "source": [
    "df_wt['Cluster']=model.labels_"
   ]
  },
  {
   "cell_type": "code",
   "execution_count": 45,
   "id": "72389b73",
   "metadata": {},
   "outputs": [
    {
     "data": {
      "text/plain": [
       "0    10540\n",
       "1     1790\n",
       "Name: Cluster, dtype: int64"
      ]
     },
     "execution_count": 45,
     "metadata": {},
     "output_type": "execute_result"
    }
   ],
   "source": [
    "df_wt['Cluster'].value_counts()"
   ]
  },
  {
   "cell_type": "code",
   "execution_count": 46,
   "id": "81a301a6",
   "metadata": {},
   "outputs": [],
   "source": [
    "Df_n['Cluster1']=model.labels_"
   ]
  },
  {
   "cell_type": "code",
   "execution_count": 47,
   "id": "18b781f8",
   "metadata": {},
   "outputs": [
    {
     "data": {
      "text/plain": [
       "0    10422\n",
       "1     1908\n",
       "Name: Revenue, dtype: int64"
      ]
     },
     "execution_count": 47,
     "metadata": {},
     "output_type": "execute_result"
    }
   ],
   "source": [
    "Df_n['Revenue'].value_counts()"
   ]
  },
  {
   "cell_type": "markdown",
   "id": "404759cd",
   "metadata": {},
   "source": [
    "# \tPerform the EDA on cluster groups to understand the cluster characteristics."
   ]
  },
  {
   "cell_type": "code",
   "execution_count": 48,
   "id": "cc136ca8",
   "metadata": {},
   "outputs": [
    {
     "data": {
      "text/plain": [
       "<AxesSubplot:xlabel='Cluster', ylabel='ExitRates'>"
      ]
     },
     "execution_count": 48,
     "metadata": {},
     "output_type": "execute_result"
    },
    {
     "data": {
      "image/png": "[encoded data removed]",
      "text/plain": [
       "<Figure size 432x288 with 1 Axes>"
      ]
     },
     "metadata": {
      "needs_background": "light"
     },
     "output_type": "display_data"
    }
   ],
   "source": [
    "sns.boxplot(df_wt['Cluster'],Df_n['ExitRates'])"
   ]
  },
  {
   "cell_type": "code",
   "execution_count": 49,
   "id": "8a03019d",
   "metadata": {},
   "outputs": [
    {
     "data": {
      "text/plain": [
       "<AxesSubplot:xlabel='Revenue', ylabel='ExitRates'>"
      ]
     },
     "execution_count": 49,
     "metadata": {},
     "output_type": "execute_result"
    },
    {
     "data": {
      "image/png": "[encoded data removed]",
      "text/plain": [
       "<Figure size 432x288 with 1 Axes>"
      ]
     },
     "metadata": {
      "needs_background": "light"
     },
     "output_type": "display_data"
    }
   ],
   "source": [
    "sns.boxplot(Df_n['Revenue'],Df_n['ExitRates'])"
   ]
  },
  {
   "cell_type": "code",
   "execution_count": 50,
   "id": "db670e63",
   "metadata": {},
   "outputs": [],
   "source": [
    "# Here we can observe that there is a similar cluster in orignal data hence can say is nearwhat similar ."
   ]
  },
  {
   "cell_type": "code",
   "execution_count": 51,
   "id": "90dd115b",
   "metadata": {},
   "outputs": [
    {
     "data": {
      "text/html": [
       "<div>\n",
       "<style scoped>\n",
       "    .dataframe tbody tr th:only-of-type {\n",
       "        vertical-align: middle;\n",
       "    }\n",
       "\n",
       "    .dataframe tbody tr th {\n",
       "        vertical-align: top;\n",
       "    }\n",
       "\n",
       "    .dataframe thead th {\n",
       "        text-align: right;\n",
       "    }\n",
       "</style>\n",
       "<table border=\"1\" class=\"dataframe\">\n",
       "  <thead>\n",
       "    <tr style=\"text-align: right;\">\n",
       "      <th></th>\n",
       "      <th>Administrative</th>\n",
       "      <th>Administrative_Duration</th>\n",
       "      <th>Informational</th>\n",
       "      <th>Informational_Duration</th>\n",
       "      <th>ProductRelated</th>\n",
       "      <th>ProductRelated_Duration</th>\n",
       "      <th>BounceRates</th>\n",
       "      <th>ExitRates</th>\n",
       "      <th>PageValues</th>\n",
       "      <th>SpecialDay</th>\n",
       "      <th>Month</th>\n",
       "      <th>OperatingSystems</th>\n",
       "      <th>Browser</th>\n",
       "      <th>Region</th>\n",
       "      <th>TrafficType</th>\n",
       "      <th>VisitorType</th>\n",
       "      <th>Weekend</th>\n",
       "      <th>Revenue</th>\n",
       "      <th>Cluster1</th>\n",
       "    </tr>\n",
       "  </thead>\n",
       "  <tbody>\n",
       "    <tr>\n",
       "      <th>count</th>\n",
       "      <td>10540.000000</td>\n",
       "      <td>10540.000000</td>\n",
       "      <td>10540.000000</td>\n",
       "      <td>10540.000000</td>\n",
       "      <td>10540.000000</td>\n",
       "      <td>10540.000000</td>\n",
       "      <td>10540.000000</td>\n",
       "      <td>10540.000000</td>\n",
       "      <td>10540.000000</td>\n",
       "      <td>10540.000000</td>\n",
       "      <td>10540.000000</td>\n",
       "      <td>10540.000000</td>\n",
       "      <td>10540.000000</td>\n",
       "      <td>10540.000000</td>\n",
       "      <td>10540.000000</td>\n",
       "      <td>10540.000000</td>\n",
       "      <td>10540.000000</td>\n",
       "      <td>10540.000000</td>\n",
       "      <td>10540.0</td>\n",
       "    </tr>\n",
       "    <tr>\n",
       "      <th>mean</th>\n",
       "      <td>2.372676</td>\n",
       "      <td>82.628926</td>\n",
       "      <td>0.517647</td>\n",
       "      <td>35.292862</td>\n",
       "      <td>32.064231</td>\n",
       "      <td>1205.229543</td>\n",
       "      <td>0.020193</td>\n",
       "      <td>0.041028</td>\n",
       "      <td>5.884278</td>\n",
       "      <td>0.059639</td>\n",
       "      <td>5.130076</td>\n",
       "      <td>2.067362</td>\n",
       "      <td>2.307211</td>\n",
       "      <td>3.119355</td>\n",
       "      <td>2.607590</td>\n",
       "      <td>1.698861</td>\n",
       "      <td>0.232922</td>\n",
       "      <td>0.155787</td>\n",
       "      <td>0.0</td>\n",
       "    </tr>\n",
       "    <tr>\n",
       "      <th>std</th>\n",
       "      <td>3.307846</td>\n",
       "      <td>180.665912</td>\n",
       "      <td>1.291168</td>\n",
       "      <td>141.666220</td>\n",
       "      <td>44.722698</td>\n",
       "      <td>1932.675459</td>\n",
       "      <td>0.046295</td>\n",
       "      <td>0.046851</td>\n",
       "      <td>18.148311</td>\n",
       "      <td>0.196639</td>\n",
       "      <td>2.387991</td>\n",
       "      <td>0.831477</td>\n",
       "      <td>1.573672</td>\n",
       "      <td>2.372468</td>\n",
       "      <td>1.604357</td>\n",
       "      <td>0.713431</td>\n",
       "      <td>0.422713</td>\n",
       "      <td>0.362671</td>\n",
       "      <td>0.0</td>\n",
       "    </tr>\n",
       "    <tr>\n",
       "      <th>min</th>\n",
       "      <td>0.000000</td>\n",
       "      <td>0.000000</td>\n",
       "      <td>0.000000</td>\n",
       "      <td>0.000000</td>\n",
       "      <td>0.000000</td>\n",
       "      <td>0.000000</td>\n",
       "      <td>0.000000</td>\n",
       "      <td>0.000000</td>\n",
       "      <td>0.000000</td>\n",
       "      <td>0.000000</td>\n",
       "      <td>0.000000</td>\n",
       "      <td>1.000000</td>\n",
       "      <td>1.000000</td>\n",
       "      <td>1.000000</td>\n",
       "      <td>1.000000</td>\n",
       "      <td>0.000000</td>\n",
       "      <td>0.000000</td>\n",
       "      <td>0.000000</td>\n",
       "      <td>0.0</td>\n",
       "    </tr>\n",
       "    <tr>\n",
       "      <th>25%</th>\n",
       "      <td>0.000000</td>\n",
       "      <td>0.000000</td>\n",
       "      <td>0.000000</td>\n",
       "      <td>0.000000</td>\n",
       "      <td>8.000000</td>\n",
       "      <td>192.925000</td>\n",
       "      <td>0.000000</td>\n",
       "      <td>0.013724</td>\n",
       "      <td>0.000000</td>\n",
       "      <td>0.000000</td>\n",
       "      <td>4.000000</td>\n",
       "      <td>2.000000</td>\n",
       "      <td>2.000000</td>\n",
       "      <td>1.000000</td>\n",
       "      <td>2.000000</td>\n",
       "      <td>2.000000</td>\n",
       "      <td>0.000000</td>\n",
       "      <td>0.000000</td>\n",
       "      <td>0.0</td>\n",
       "    </tr>\n",
       "    <tr>\n",
       "      <th>50%</th>\n",
       "      <td>1.000000</td>\n",
       "      <td>11.500000</td>\n",
       "      <td>0.000000</td>\n",
       "      <td>0.000000</td>\n",
       "      <td>18.000000</td>\n",
       "      <td>610.250595</td>\n",
       "      <td>0.002500</td>\n",
       "      <td>0.025000</td>\n",
       "      <td>0.000000</td>\n",
       "      <td>0.000000</td>\n",
       "      <td>6.000000</td>\n",
       "      <td>2.000000</td>\n",
       "      <td>2.000000</td>\n",
       "      <td>3.000000</td>\n",
       "      <td>2.000000</td>\n",
       "      <td>2.000000</td>\n",
       "      <td>0.000000</td>\n",
       "      <td>0.000000</td>\n",
       "      <td>0.0</td>\n",
       "    </tr>\n",
       "    <tr>\n",
       "      <th>75%</th>\n",
       "      <td>4.000000</td>\n",
       "      <td>95.500000</td>\n",
       "      <td>0.000000</td>\n",
       "      <td>0.000000</td>\n",
       "      <td>38.000000</td>\n",
       "      <td>1475.427107</td>\n",
       "      <td>0.015385</td>\n",
       "      <td>0.046491</td>\n",
       "      <td>0.000000</td>\n",
       "      <td>0.000000</td>\n",
       "      <td>7.000000</td>\n",
       "      <td>2.000000</td>\n",
       "      <td>2.000000</td>\n",
       "      <td>4.000000</td>\n",
       "      <td>3.000000</td>\n",
       "      <td>2.000000</td>\n",
       "      <td>0.000000</td>\n",
       "      <td>0.000000</td>\n",
       "      <td>0.0</td>\n",
       "    </tr>\n",
       "    <tr>\n",
       "      <th>max</th>\n",
       "      <td>27.000000</td>\n",
       "      <td>3398.750000</td>\n",
       "      <td>24.000000</td>\n",
       "      <td>2549.375000</td>\n",
       "      <td>705.000000</td>\n",
       "      <td>63973.522230</td>\n",
       "      <td>0.200000</td>\n",
       "      <td>0.200000</td>\n",
       "      <td>361.763742</td>\n",
       "      <td>1.000000</td>\n",
       "      <td>9.000000</td>\n",
       "      <td>8.000000</td>\n",
       "      <td>13.000000</td>\n",
       "      <td>9.000000</td>\n",
       "      <td>14.000000</td>\n",
       "      <td>2.000000</td>\n",
       "      <td>1.000000</td>\n",
       "      <td>1.000000</td>\n",
       "      <td>0.0</td>\n",
       "    </tr>\n",
       "  </tbody>\n",
       "</table>\n",
       "</div>"
      ],
      "text/plain": [
       "       Administrative  Administrative_Duration  Informational  \\\n",
       "count    10540.000000             10540.000000   10540.000000   \n",
       "mean         2.372676                82.628926       0.517647   \n",
       "std          3.307846               180.665912       1.291168   \n",
       "min          0.000000                 0.000000       0.000000   \n",
       "25%          0.000000                 0.000000       0.000000   \n",
       "50%          1.000000                11.500000       0.000000   \n",
       "75%          4.000000                95.500000       0.000000   \n",
       "max         27.000000              3398.750000      24.000000   \n",
       "\n",
       "       Informational_Duration  ProductRelated  ProductRelated_Duration  \\\n",
       "count            10540.000000    10540.000000             10540.000000   \n",
       "mean                35.292862       32.064231              1205.229543   \n",
       "std                141.666220       44.722698              1932.675459   \n",
       "min                  0.000000        0.000000                 0.000000   \n",
       "25%                  0.000000        8.000000               192.925000   \n",
       "50%                  0.000000       18.000000               610.250595   \n",
       "75%                  0.000000       38.000000              1475.427107   \n",
       "max               2549.375000      705.000000             63973.522230   \n",
       "\n",
       "        BounceRates     ExitRates    PageValues    SpecialDay         Month  \\\n",
       "count  10540.000000  10540.000000  10540.000000  10540.000000  10540.000000   \n",
       "mean       0.020193      0.041028      5.884278      0.059639      5.130076   \n",
       "std        0.046295      0.046851     18.148311      0.196639      2.387991   \n",
       "min        0.000000      0.000000      0.000000      0.000000      0.000000   \n",
       "25%        0.000000      0.013724      0.000000      0.000000      4.000000   \n",
       "50%        0.002500      0.025000      0.000000      0.000000      6.000000   \n",
       "75%        0.015385      0.046491      0.000000      0.000000      7.000000   \n",
       "max        0.200000      0.200000    361.763742      1.000000      9.000000   \n",
       "\n",
       "       OperatingSystems       Browser        Region   TrafficType  \\\n",
       "count      10540.000000  10540.000000  10540.000000  10540.000000   \n",
       "mean           2.067362      2.307211      3.119355      2.607590   \n",
       "std            0.831477      1.573672      2.372468      1.604357   \n",
       "min            1.000000      1.000000      1.000000      1.000000   \n",
       "25%            2.000000      2.000000      1.000000      2.000000   \n",
       "50%            2.000000      2.000000      3.000000      2.000000   \n",
       "75%            2.000000      2.000000      4.000000      3.000000   \n",
       "max            8.000000     13.000000      9.000000     14.000000   \n",
       "\n",
       "        VisitorType       Weekend       Revenue  Cluster1  \n",
       "count  10540.000000  10540.000000  10540.000000   10540.0  \n",
       "mean       1.698861      0.232922      0.155787       0.0  \n",
       "std        0.713431      0.422713      0.362671       0.0  \n",
       "min        0.000000      0.000000      0.000000       0.0  \n",
       "25%        2.000000      0.000000      0.000000       0.0  \n",
       "50%        2.000000      0.000000      0.000000       0.0  \n",
       "75%        2.000000      0.000000      0.000000       0.0  \n",
       "max        2.000000      1.000000      1.000000       0.0  "
      ]
     },
     "execution_count": 51,
     "metadata": {},
     "output_type": "execute_result"
    }
   ],
   "source": [
    "Df_n[Df_n.Cluster1 == 0].describe() ##(REVENUE  =FALSE  )"
   ]
  },
  {
   "cell_type": "markdown",
   "id": "2f7b076f",
   "metadata": {},
   "source": [
    "#                                Summary \n",
    "Average Bounce Rates 0.02 ,  \n",
    "\n",
    "exit rates - 0.04 ,\n",
    "\n",
    "Page Value -5.88 ,\n",
    "\n",
    "Special Day 0.05 ,\n",
    "\n",
    "Browser -2.30 ,\n",
    "\n",
    "Region-3.11,\n",
    "\n",
    "Traffic type is 2.60  ,\n",
    "\n",
    "Visitor type 1.69 ,\n",
    "\n",
    "# Max Traffic Type -14"
   ]
  },
  {
   "cell_type": "code",
   "execution_count": 52,
   "id": "cd796447",
   "metadata": {},
   "outputs": [
    {
     "data": {
      "text/html": [
       "<div>\n",
       "<style scoped>\n",
       "    .dataframe tbody tr th:only-of-type {\n",
       "        vertical-align: middle;\n",
       "    }\n",
       "\n",
       "    .dataframe tbody tr th {\n",
       "        vertical-align: top;\n",
       "    }\n",
       "\n",
       "    .dataframe thead th {\n",
       "        text-align: right;\n",
       "    }\n",
       "</style>\n",
       "<table border=\"1\" class=\"dataframe\">\n",
       "  <thead>\n",
       "    <tr style=\"text-align: right;\">\n",
       "      <th></th>\n",
       "      <th>Administrative</th>\n",
       "      <th>Administrative_Duration</th>\n",
       "      <th>Informational</th>\n",
       "      <th>Informational_Duration</th>\n",
       "      <th>ProductRelated</th>\n",
       "      <th>ProductRelated_Duration</th>\n",
       "      <th>BounceRates</th>\n",
       "      <th>ExitRates</th>\n",
       "      <th>PageValues</th>\n",
       "      <th>SpecialDay</th>\n",
       "      <th>Month</th>\n",
       "      <th>OperatingSystems</th>\n",
       "      <th>Browser</th>\n",
       "      <th>Region</th>\n",
       "      <th>TrafficType</th>\n",
       "      <th>VisitorType</th>\n",
       "      <th>Weekend</th>\n",
       "      <th>Revenue</th>\n",
       "      <th>Cluster1</th>\n",
       "    </tr>\n",
       "  </thead>\n",
       "  <tbody>\n",
       "    <tr>\n",
       "      <th>count</th>\n",
       "      <td>1790.000000</td>\n",
       "      <td>1790.000000</td>\n",
       "      <td>1790.000000</td>\n",
       "      <td>1790.000000</td>\n",
       "      <td>1790.000000</td>\n",
       "      <td>1790.000000</td>\n",
       "      <td>1790.000000</td>\n",
       "      <td>1790.000000</td>\n",
       "      <td>1790.000000</td>\n",
       "      <td>1790.000000</td>\n",
       "      <td>1790.000000</td>\n",
       "      <td>1790.000000</td>\n",
       "      <td>1790.000000</td>\n",
       "      <td>1790.000000</td>\n",
       "      <td>1790.000000</td>\n",
       "      <td>1790.000000</td>\n",
       "      <td>1790.000000</td>\n",
       "      <td>1790.000000</td>\n",
       "      <td>1790.0</td>\n",
       "    </tr>\n",
       "    <tr>\n",
       "      <th>mean</th>\n",
       "      <td>1.976536</td>\n",
       "      <td>70.158987</td>\n",
       "      <td>0.420670</td>\n",
       "      <td>29.641286</td>\n",
       "      <td>29.772067</td>\n",
       "      <td>1133.017605</td>\n",
       "      <td>0.033956</td>\n",
       "      <td>0.055115</td>\n",
       "      <td>5.918578</td>\n",
       "      <td>0.071955</td>\n",
       "      <td>5.363687</td>\n",
       "      <td>2.457542</td>\n",
       "      <td>2.650838</td>\n",
       "      <td>3.312291</td>\n",
       "      <td>12.678212</td>\n",
       "      <td>1.832961</td>\n",
       "      <td>0.230726</td>\n",
       "      <td>0.148603</td>\n",
       "      <td>1.0</td>\n",
       "    </tr>\n",
       "    <tr>\n",
       "      <th>std</th>\n",
       "      <td>3.383865</td>\n",
       "      <td>151.495359</td>\n",
       "      <td>1.135394</td>\n",
       "      <td>135.161463</td>\n",
       "      <td>42.951017</td>\n",
       "      <td>1796.958469</td>\n",
       "      <td>0.058437</td>\n",
       "      <td>0.056343</td>\n",
       "      <td>20.877044</td>\n",
       "      <td>0.211587</td>\n",
       "      <td>2.252908</td>\n",
       "      <td>1.233108</td>\n",
       "      <td>2.373552</td>\n",
       "      <td>2.560878</td>\n",
       "      <td>3.122669</td>\n",
       "      <td>0.523914</td>\n",
       "      <td>0.421415</td>\n",
       "      <td>0.355796</td>\n",
       "      <td>0.0</td>\n",
       "    </tr>\n",
       "    <tr>\n",
       "      <th>min</th>\n",
       "      <td>0.000000</td>\n",
       "      <td>0.000000</td>\n",
       "      <td>0.000000</td>\n",
       "      <td>0.000000</td>\n",
       "      <td>0.000000</td>\n",
       "      <td>0.000000</td>\n",
       "      <td>0.000000</td>\n",
       "      <td>0.000000</td>\n",
       "      <td>0.000000</td>\n",
       "      <td>0.000000</td>\n",
       "      <td>0.000000</td>\n",
       "      <td>1.000000</td>\n",
       "      <td>1.000000</td>\n",
       "      <td>1.000000</td>\n",
       "      <td>6.000000</td>\n",
       "      <td>0.000000</td>\n",
       "      <td>0.000000</td>\n",
       "      <td>0.000000</td>\n",
       "      <td>1.0</td>\n",
       "    </tr>\n",
       "    <tr>\n",
       "      <th>25%</th>\n",
       "      <td>0.000000</td>\n",
       "      <td>0.000000</td>\n",
       "      <td>0.000000</td>\n",
       "      <td>0.000000</td>\n",
       "      <td>6.000000</td>\n",
       "      <td>133.875000</td>\n",
       "      <td>0.000000</td>\n",
       "      <td>0.017403</td>\n",
       "      <td>0.000000</td>\n",
       "      <td>0.000000</td>\n",
       "      <td>5.000000</td>\n",
       "      <td>2.000000</td>\n",
       "      <td>2.000000</td>\n",
       "      <td>1.000000</td>\n",
       "      <td>10.000000</td>\n",
       "      <td>2.000000</td>\n",
       "      <td>0.000000</td>\n",
       "      <td>0.000000</td>\n",
       "      <td>1.0</td>\n",
       "    </tr>\n",
       "    <tr>\n",
       "      <th>50%</th>\n",
       "      <td>0.000000</td>\n",
       "      <td>0.000000</td>\n",
       "      <td>0.000000</td>\n",
       "      <td>0.000000</td>\n",
       "      <td>16.000000</td>\n",
       "      <td>535.750000</td>\n",
       "      <td>0.008000</td>\n",
       "      <td>0.033333</td>\n",
       "      <td>0.000000</td>\n",
       "      <td>0.000000</td>\n",
       "      <td>6.000000</td>\n",
       "      <td>2.000000</td>\n",
       "      <td>2.000000</td>\n",
       "      <td>3.000000</td>\n",
       "      <td>13.000000</td>\n",
       "      <td>2.000000</td>\n",
       "      <td>0.000000</td>\n",
       "      <td>0.000000</td>\n",
       "      <td>1.0</td>\n",
       "    </tr>\n",
       "    <tr>\n",
       "      <th>75%</th>\n",
       "      <td>3.000000</td>\n",
       "      <td>76.585417</td>\n",
       "      <td>0.000000</td>\n",
       "      <td>0.000000</td>\n",
       "      <td>36.000000</td>\n",
       "      <td>1383.356410</td>\n",
       "      <td>0.033224</td>\n",
       "      <td>0.066667</td>\n",
       "      <td>0.000000</td>\n",
       "      <td>0.000000</td>\n",
       "      <td>7.000000</td>\n",
       "      <td>3.000000</td>\n",
       "      <td>2.000000</td>\n",
       "      <td>4.000000</td>\n",
       "      <td>13.000000</td>\n",
       "      <td>2.000000</td>\n",
       "      <td>0.000000</td>\n",
       "      <td>0.000000</td>\n",
       "      <td>1.0</td>\n",
       "    </tr>\n",
       "    <tr>\n",
       "      <th>max</th>\n",
       "      <td>26.000000</td>\n",
       "      <td>1652.000000</td>\n",
       "      <td>10.000000</td>\n",
       "      <td>1778.000000</td>\n",
       "      <td>440.000000</td>\n",
       "      <td>23888.810000</td>\n",
       "      <td>0.200000</td>\n",
       "      <td>0.200000</td>\n",
       "      <td>360.953384</td>\n",
       "      <td>1.000000</td>\n",
       "      <td>9.000000</td>\n",
       "      <td>8.000000</td>\n",
       "      <td>13.000000</td>\n",
       "      <td>9.000000</td>\n",
       "      <td>20.000000</td>\n",
       "      <td>2.000000</td>\n",
       "      <td>1.000000</td>\n",
       "      <td>1.000000</td>\n",
       "      <td>1.0</td>\n",
       "    </tr>\n",
       "  </tbody>\n",
       "</table>\n",
       "</div>"
      ],
      "text/plain": [
       "       Administrative  Administrative_Duration  Informational  \\\n",
       "count     1790.000000              1790.000000    1790.000000   \n",
       "mean         1.976536                70.158987       0.420670   \n",
       "std          3.383865               151.495359       1.135394   \n",
       "min          0.000000                 0.000000       0.000000   \n",
       "25%          0.000000                 0.000000       0.000000   \n",
       "50%          0.000000                 0.000000       0.000000   \n",
       "75%          3.000000                76.585417       0.000000   \n",
       "max         26.000000              1652.000000      10.000000   \n",
       "\n",
       "       Informational_Duration  ProductRelated  ProductRelated_Duration  \\\n",
       "count             1790.000000     1790.000000              1790.000000   \n",
       "mean                29.641286       29.772067              1133.017605   \n",
       "std                135.161463       42.951017              1796.958469   \n",
       "min                  0.000000        0.000000                 0.000000   \n",
       "25%                  0.000000        6.000000               133.875000   \n",
       "50%                  0.000000       16.000000               535.750000   \n",
       "75%                  0.000000       36.000000              1383.356410   \n",
       "max               1778.000000      440.000000             23888.810000   \n",
       "\n",
       "       BounceRates    ExitRates   PageValues   SpecialDay        Month  \\\n",
       "count  1790.000000  1790.000000  1790.000000  1790.000000  1790.000000   \n",
       "mean      0.033956     0.055115     5.918578     0.071955     5.363687   \n",
       "std       0.058437     0.056343    20.877044     0.211587     2.252908   \n",
       "min       0.000000     0.000000     0.000000     0.000000     0.000000   \n",
       "25%       0.000000     0.017403     0.000000     0.000000     5.000000   \n",
       "50%       0.008000     0.033333     0.000000     0.000000     6.000000   \n",
       "75%       0.033224     0.066667     0.000000     0.000000     7.000000   \n",
       "max       0.200000     0.200000   360.953384     1.000000     9.000000   \n",
       "\n",
       "       OperatingSystems      Browser       Region  TrafficType  VisitorType  \\\n",
       "count       1790.000000  1790.000000  1790.000000  1790.000000  1790.000000   \n",
       "mean           2.457542     2.650838     3.312291    12.678212     1.832961   \n",
       "std            1.233108     2.373552     2.560878     3.122669     0.523914   \n",
       "min            1.000000     1.000000     1.000000     6.000000     0.000000   \n",
       "25%            2.000000     2.000000     1.000000    10.000000     2.000000   \n",
       "50%            2.000000     2.000000     3.000000    13.000000     2.000000   \n",
       "75%            3.000000     2.000000     4.000000    13.000000     2.000000   \n",
       "max            8.000000    13.000000     9.000000    20.000000     2.000000   \n",
       "\n",
       "           Weekend      Revenue  Cluster1  \n",
       "count  1790.000000  1790.000000    1790.0  \n",
       "mean      0.230726     0.148603       1.0  \n",
       "std       0.421415     0.355796       0.0  \n",
       "min       0.000000     0.000000       1.0  \n",
       "25%       0.000000     0.000000       1.0  \n",
       "50%       0.000000     0.000000       1.0  \n",
       "75%       0.000000     0.000000       1.0  \n",
       "max       1.000000     1.000000       1.0  "
      ]
     },
     "execution_count": 52,
     "metadata": {},
     "output_type": "execute_result"
    }
   ],
   "source": [
    "Df_n[Df_n.Cluster1 == 1].describe()\n",
    "#Revenue =True "
   ]
  },
  {
   "cell_type": "markdown",
   "id": "355af26b",
   "metadata": {},
   "source": [
    "#                                             SUMMARY \n",
    "Average Bounce Rates 0.033956 ,\n",
    "\n",
    "exit rates - 0.055 ,\n",
    "\n",
    "Page Value -5.91 ,\n",
    "\n",
    "Special Day 0.07 ,\n",
    "\n",
    "Browser -2.65 ,\n",
    "\n",
    "Region-3.31\n",
    "\n",
    "Traffic type is 12.67  \n",
    "\n",
    "Visitor type 1.83\n",
    "\n",
    "# Max -Traffic Type -20"
   ]
  },
  {
   "cell_type": "markdown",
   "id": "a4e73dc0",
   "metadata": {},
   "source": [
    "# \tPerform PCA and apply clustering on top of it. Comment whether PCA is really helping the clustering process.  "
   ]
  },
  {
   "cell_type": "markdown",
   "id": "2147f244",
   "metadata": {},
   "source": [
    "# USING PCA"
   ]
  },
  {
   "cell_type": "code",
   "execution_count": 53,
   "id": "3df73b60",
   "metadata": {},
   "outputs": [],
   "source": [
    "from sklearn.decomposition import PCA"
   ]
  },
  {
   "cell_type": "code",
   "execution_count": 54,
   "id": "d8eba21c",
   "metadata": {},
   "outputs": [],
   "source": [
    "pca=PCA(n_components=0.9)\n",
    "\n",
    "Pca_model=pca.fit(X)\n",
    "\n",
    "pca_val=Pca_model.fit_transform(df_new_)"
   ]
  },
  {
   "cell_type": "code",
   "execution_count": 55,
   "id": "1140f373",
   "metadata": {},
   "outputs": [
    {
     "data": {
      "text/plain": [
       "array([16.28418278,  3.39666021,  1.71587145,  1.25183693,  1.12375679,\n",
       "        1.02176033,  0.99585139,  0.96666023,  0.92268989,  0.87120225])"
      ]
     },
     "execution_count": 55,
     "metadata": {},
     "output_type": "execute_result"
    }
   ],
   "source": [
    "Pca_model.explained_variance_"
   ]
  },
  {
   "cell_type": "code",
   "execution_count": 56,
   "id": "6b33686e",
   "metadata": {},
   "outputs": [
    {
     "data": {
      "text/plain": [
       "array([52.54726234, 10.96064797,  5.53692796,  4.03953974,  3.62623925,\n",
       "        3.29710792,  3.21350263,  3.11930596,  2.97741853,  2.8112736 ])"
      ]
     },
     "execution_count": 56,
     "metadata": {},
     "output_type": "execute_result"
    }
   ],
   "source": [
    "Pca_model.explained_variance_ratio_*100"
   ]
  },
  {
   "cell_type": "code",
   "execution_count": 57,
   "id": "30228b4d",
   "metadata": {},
   "outputs": [],
   "source": [
    "# Here 10 vector explain model 90% variance "
   ]
  },
  {
   "cell_type": "code",
   "execution_count": null,
   "id": "03dee75d",
   "metadata": {},
   "outputs": [],
   "source": []
  },
  {
   "cell_type": "code",
   "execution_count": 58,
   "id": "72162144",
   "metadata": {},
   "outputs": [],
   "source": [
    "pca_df=pd.DataFrame(Pca_model.fit_transform(df_new_),columns=['X1','X2','X3','X4','X5','X6','X7','X8','X9','X10'])"
   ]
  },
  {
   "cell_type": "code",
   "execution_count": 59,
   "id": "4182ac91",
   "metadata": {},
   "outputs": [
    {
     "data": {
      "text/html": [
       "<div>\n",
       "<style scoped>\n",
       "    .dataframe tbody tr th:only-of-type {\n",
       "        vertical-align: middle;\n",
       "    }\n",
       "\n",
       "    .dataframe tbody tr th {\n",
       "        vertical-align: top;\n",
       "    }\n",
       "\n",
       "    .dataframe thead th {\n",
       "        text-align: right;\n",
       "    }\n",
       "</style>\n",
       "<table border=\"1\" class=\"dataframe\">\n",
       "  <thead>\n",
       "    <tr style=\"text-align: right;\">\n",
       "      <th></th>\n",
       "      <th>X1</th>\n",
       "      <th>X2</th>\n",
       "      <th>X3</th>\n",
       "      <th>X4</th>\n",
       "      <th>X5</th>\n",
       "      <th>X6</th>\n",
       "      <th>X7</th>\n",
       "      <th>X8</th>\n",
       "      <th>X9</th>\n",
       "      <th>X10</th>\n",
       "    </tr>\n",
       "  </thead>\n",
       "  <tbody>\n",
       "    <tr>\n",
       "      <th>0</th>\n",
       "      <td>-2.986826</td>\n",
       "      <td>-3.389228</td>\n",
       "      <td>3.793128</td>\n",
       "      <td>-0.367575</td>\n",
       "      <td>-1.496408</td>\n",
       "      <td>-0.605953</td>\n",
       "      <td>-0.539789</td>\n",
       "      <td>1.196125</td>\n",
       "      <td>0.171584</td>\n",
       "      <td>0.765404</td>\n",
       "    </tr>\n",
       "    <tr>\n",
       "      <th>1</th>\n",
       "      <td>-2.058453</td>\n",
       "      <td>-1.540809</td>\n",
       "      <td>0.113497</td>\n",
       "      <td>-0.074079</td>\n",
       "      <td>-0.690251</td>\n",
       "      <td>0.821838</td>\n",
       "      <td>-0.535641</td>\n",
       "      <td>0.846567</td>\n",
       "      <td>-0.580779</td>\n",
       "      <td>0.367669</td>\n",
       "    </tr>\n",
       "    <tr>\n",
       "      <th>2</th>\n",
       "      <td>-0.783855</td>\n",
       "      <td>-3.363342</td>\n",
       "      <td>3.395222</td>\n",
       "      <td>2.710813</td>\n",
       "      <td>-0.816049</td>\n",
       "      <td>-0.812639</td>\n",
       "      <td>-0.707891</td>\n",
       "      <td>-0.529508</td>\n",
       "      <td>1.429781</td>\n",
       "      <td>0.323596</td>\n",
       "    </tr>\n",
       "    <tr>\n",
       "      <th>3</th>\n",
       "      <td>0.039133</td>\n",
       "      <td>-2.031117</td>\n",
       "      <td>1.089866</td>\n",
       "      <td>0.790603</td>\n",
       "      <td>-0.625800</td>\n",
       "      <td>0.418763</td>\n",
       "      <td>-0.505560</td>\n",
       "      <td>0.817363</td>\n",
       "      <td>-0.531860</td>\n",
       "      <td>0.228181</td>\n",
       "    </tr>\n",
       "    <tr>\n",
       "      <th>4</th>\n",
       "      <td>-0.011964</td>\n",
       "      <td>-1.045442</td>\n",
       "      <td>-0.260891</td>\n",
       "      <td>0.732087</td>\n",
       "      <td>-0.183224</td>\n",
       "      <td>0.926699</td>\n",
       "      <td>-0.524433</td>\n",
       "      <td>1.067562</td>\n",
       "      <td>-0.922682</td>\n",
       "      <td>0.108628</td>\n",
       "    </tr>\n",
       "    <tr>\n",
       "      <th>...</th>\n",
       "      <td>...</td>\n",
       "      <td>...</td>\n",
       "      <td>...</td>\n",
       "      <td>...</td>\n",
       "      <td>...</td>\n",
       "      <td>...</td>\n",
       "      <td>...</td>\n",
       "      <td>...</td>\n",
       "      <td>...</td>\n",
       "      <td>...</td>\n",
       "    </tr>\n",
       "    <tr>\n",
       "      <th>12325</th>\n",
       "      <td>-2.949066</td>\n",
       "      <td>0.350166</td>\n",
       "      <td>-0.583022</td>\n",
       "      <td>2.761844</td>\n",
       "      <td>0.474937</td>\n",
       "      <td>0.235967</td>\n",
       "      <td>-0.567395</td>\n",
       "      <td>1.591849</td>\n",
       "      <td>-1.692145</td>\n",
       "      <td>0.431382</td>\n",
       "    </tr>\n",
       "    <tr>\n",
       "      <th>12326</th>\n",
       "      <td>3.961055</td>\n",
       "      <td>-0.570176</td>\n",
       "      <td>-0.832965</td>\n",
       "      <td>-0.559276</td>\n",
       "      <td>0.395133</td>\n",
       "      <td>0.374690</td>\n",
       "      <td>0.232255</td>\n",
       "      <td>0.376014</td>\n",
       "      <td>-0.742676</td>\n",
       "      <td>-1.115062</td>\n",
       "    </tr>\n",
       "    <tr>\n",
       "      <th>12327</th>\n",
       "      <td>9.018266</td>\n",
       "      <td>-1.338825</td>\n",
       "      <td>0.856662</td>\n",
       "      <td>-0.505237</td>\n",
       "      <td>0.023541</td>\n",
       "      <td>-0.226596</td>\n",
       "      <td>0.220657</td>\n",
       "      <td>0.606590</td>\n",
       "      <td>-0.550170</td>\n",
       "      <td>-1.011502</td>\n",
       "    </tr>\n",
       "    <tr>\n",
       "      <th>12328</th>\n",
       "      <td>6.890446</td>\n",
       "      <td>0.181899</td>\n",
       "      <td>-0.783309</td>\n",
       "      <td>-0.918147</td>\n",
       "      <td>-0.189822</td>\n",
       "      <td>-0.261965</td>\n",
       "      <td>-0.247222</td>\n",
       "      <td>-0.470913</td>\n",
       "      <td>-0.187826</td>\n",
       "      <td>-0.635726</td>\n",
       "    </tr>\n",
       "    <tr>\n",
       "      <th>12329</th>\n",
       "      <td>-1.996501</td>\n",
       "      <td>-1.208284</td>\n",
       "      <td>-0.612653</td>\n",
       "      <td>-0.135559</td>\n",
       "      <td>0.137468</td>\n",
       "      <td>0.060028</td>\n",
       "      <td>0.518400</td>\n",
       "      <td>0.244359</td>\n",
       "      <td>-0.919951</td>\n",
       "      <td>-1.152130</td>\n",
       "    </tr>\n",
       "  </tbody>\n",
       "</table>\n",
       "<p>12330 rows × 10 columns</p>\n",
       "</div>"
      ],
      "text/plain": [
       "             X1        X2        X3        X4        X5        X6        X7  \\\n",
       "0     -2.986826 -3.389228  3.793128 -0.367575 -1.496408 -0.605953 -0.539789   \n",
       "1     -2.058453 -1.540809  0.113497 -0.074079 -0.690251  0.821838 -0.535641   \n",
       "2     -0.783855 -3.363342  3.395222  2.710813 -0.816049 -0.812639 -0.707891   \n",
       "3      0.039133 -2.031117  1.089866  0.790603 -0.625800  0.418763 -0.505560   \n",
       "4     -0.011964 -1.045442 -0.260891  0.732087 -0.183224  0.926699 -0.524433   \n",
       "...         ...       ...       ...       ...       ...       ...       ...   \n",
       "12325 -2.949066  0.350166 -0.583022  2.761844  0.474937  0.235967 -0.567395   \n",
       "12326  3.961055 -0.570176 -0.832965 -0.559276  0.395133  0.374690  0.232255   \n",
       "12327  9.018266 -1.338825  0.856662 -0.505237  0.023541 -0.226596  0.220657   \n",
       "12328  6.890446  0.181899 -0.783309 -0.918147 -0.189822 -0.261965 -0.247222   \n",
       "12329 -1.996501 -1.208284 -0.612653 -0.135559  0.137468  0.060028  0.518400   \n",
       "\n",
       "             X8        X9       X10  \n",
       "0      1.196125  0.171584  0.765404  \n",
       "1      0.846567 -0.580779  0.367669  \n",
       "2     -0.529508  1.429781  0.323596  \n",
       "3      0.817363 -0.531860  0.228181  \n",
       "4      1.067562 -0.922682  0.108628  \n",
       "...         ...       ...       ...  \n",
       "12325  1.591849 -1.692145  0.431382  \n",
       "12326  0.376014 -0.742676 -1.115062  \n",
       "12327  0.606590 -0.550170 -1.011502  \n",
       "12328 -0.470913 -0.187826 -0.635726  \n",
       "12329  0.244359 -0.919951 -1.152130  \n",
       "\n",
       "[12330 rows x 10 columns]"
      ]
     },
     "execution_count": 59,
     "metadata": {},
     "output_type": "execute_result"
    }
   ],
   "source": [
    "pca_df"
   ]
  },
  {
   "cell_type": "code",
   "execution_count": 60,
   "id": "d9a268e7",
   "metadata": {},
   "outputs": [],
   "source": [
    "inertia_pca=[]\n",
    "for i in range(1,11):\n",
    "    kmeans_pc=KMeans(n_clusters=i)\n",
    "    kmeans_model_pc=kmeans_pc.fit(pca_df)\n",
    "    inertia_pca.append(kmeans_model_pc.inertia_)\n",
    "    "
   ]
  },
  {
   "cell_type": "code",
   "execution_count": 61,
   "id": "c7908e09",
   "metadata": {},
   "outputs": [
    {
     "data": {
      "text/plain": [
       "[<matplotlib.lines.Line2D at 0x1372b962b20>]"
      ]
     },
     "execution_count": 61,
     "metadata": {},
     "output_type": "execute_result"
    },
    {
     "data": {
      "image/png": "[encoded data removed]",
      "text/plain": [
       "<Figure size 432x288 with 1 Axes>"
      ]
     },
     "metadata": {
      "needs_background": "light"
     },
     "output_type": "display_data"
    }
   ],
   "source": [
    "plt.plot(range(1,11),inertia_pca,color='red')\n",
    "\n",
    "#Elbow is near 2 ."
   ]
  },
  {
   "cell_type": "markdown",
   "id": "817ce867",
   "metadata": {},
   "source": [
    "# Using Kmeans on PCA\n"
   ]
  },
  {
   "cell_type": "code",
   "execution_count": 62,
   "id": "4fd84164",
   "metadata": {},
   "outputs": [
    {
     "data": {
      "text/plain": [
       "array([0, 0, 0, ..., 1, 1, 0])"
      ]
     },
     "execution_count": 62,
     "metadata": {},
     "output_type": "execute_result"
    }
   ],
   "source": [
    "kmeans_pc2=KMeans(n_clusters=2)\n",
    "kmeans_model2=kmeans_pc2.fit(pca_df)\n",
    "kmeans_model2.labels_    "
   ]
  },
  {
   "cell_type": "code",
   "execution_count": 63,
   "id": "ca81aa69",
   "metadata": {},
   "outputs": [],
   "source": [
    "df_wt['Cluster_pc']=kmeans_model2.labels_    "
   ]
  },
  {
   "cell_type": "code",
   "execution_count": 64,
   "id": "1b63109a",
   "metadata": {},
   "outputs": [
    {
     "data": {
      "text/plain": [
       "0    10229\n",
       "1     2101\n",
       "Name: Cluster_pc, dtype: int64"
      ]
     },
     "execution_count": 64,
     "metadata": {},
     "output_type": "execute_result"
    }
   ],
   "source": [
    "df_wt['Cluster_pc'].value_counts()"
   ]
  },
  {
   "cell_type": "code",
   "execution_count": 65,
   "id": "99bec892",
   "metadata": {},
   "outputs": [
    {
     "data": {
      "text/plain": [
       "0    10422\n",
       "1     1908\n",
       "Name: Revenue, dtype: int64"
      ]
     },
     "execution_count": 65,
     "metadata": {},
     "output_type": "execute_result"
    }
   ],
   "source": [
    "Df_n['Revenue'].value_counts()"
   ]
  },
  {
   "cell_type": "code",
   "execution_count": 66,
   "id": "cb6bf66f",
   "metadata": {},
   "outputs": [
    {
     "data": {
      "text/plain": [
       "array([[-1.63172199e+00, -2.09260605e-02, -3.43512894e-03,\n",
       "         2.58455498e-02,  2.19967633e-02, -3.08192835e-03,\n",
       "         1.62147986e-02, -1.30120549e-02, -1.08845820e-02,\n",
       "         5.69103852e-03],\n",
       "       [ 7.94425715e+00,  1.01881329e-01,  1.67243855e-02,\n",
       "        -1.25832522e-01, -1.07094189e-01,  1.50047811e-02,\n",
       "        -7.89439194e-02,  6.33509327e-02,  5.29930460e-02,\n",
       "        -2.77075836e-02]])"
      ]
     },
     "execution_count": 66,
     "metadata": {},
     "output_type": "execute_result"
    }
   ],
   "source": [
    "kmeans_model2.cluster_centers_"
   ]
  },
  {
   "cell_type": "markdown",
   "id": "e0ff49a9",
   "metadata": {},
   "source": [
    "Yes PCA is also helping in Clustering Process ."
   ]
  },
  {
   "cell_type": "markdown",
   "id": "66b68ae1",
   "metadata": {},
   "source": [
    "# \tAlso try different graphs to visualize the clusters and its characteristics. "
   ]
  },
  {
   "cell_type": "code",
   "execution_count": 67,
   "id": "03e1080c",
   "metadata": {},
   "outputs": [
    {
     "data": {
      "text/plain": [
       "<AxesSubplot:xlabel='Informational_Duration', ylabel='ProductRelated_Duration'>"
      ]
     },
     "execution_count": 67,
     "metadata": {},
     "output_type": "execute_result"
    },
    {
     "data": {
      "image/png": "[encoded data removed]",
      "text/plain": [
       "<Figure size 432x288 with 1 Axes>"
      ]
     },
     "metadata": {
      "needs_background": "light"
     },
     "output_type": "display_data"
    }
   ],
   "source": [
    "sns.scatterplot(x = Df_n.Informational_Duration, y=Df_n.ProductRelated_Duration , hue = Df_n['Revenue'])                                           "
   ]
  },
  {
   "cell_type": "code",
   "execution_count": 68,
   "id": "1576d6e5",
   "metadata": {},
   "outputs": [
    {
     "data": {
      "text/plain": [
       "(<AxesSubplot:xlabel='TrafficType', ylabel='count'>,)"
      ]
     },
     "execution_count": 68,
     "metadata": {},
     "output_type": "execute_result"
    },
    {
     "data": {
      "image/png": "[encoded data removed]",
      "text/plain": [
       "<Figure size 432x288 with 1 Axes>"
      ]
     },
     "metadata": {
      "needs_background": "light"
     },
     "output_type": "display_data"
    }
   ],
   "source": [
    "sns.countplot(x = Df_n.TrafficType, hue=Df_n.VisitorType ), #hue = Df_n['Revenue'])"
   ]
  },
  {
   "cell_type": "code",
   "execution_count": 69,
   "id": "a20683c6",
   "metadata": {},
   "outputs": [
    {
     "data": {
      "text/plain": [
       "<matplotlib.collections.PathCollection at 0x1372f04d430>"
      ]
     },
     "execution_count": 69,
     "metadata": {},
     "output_type": "execute_result"
    },
    {
     "data": {
      "image/png": "[encoded data removed]",
      "text/plain": [
       "<Figure size 432x288 with 1 Axes>"
      ]
     },
     "metadata": {
      "needs_background": "light"
     },
     "output_type": "display_data"
    }
   ],
   "source": [
    "plt.scatter(kmeans_model2.cluster_centers_[:, 0], kmeans_model2.cluster_centers_[:,1], \n",
    "            s = 100, c = 'yellow', label = 'Centroids')"
   ]
  },
  {
   "cell_type": "code",
   "execution_count": null,
   "id": "d2818718",
   "metadata": {},
   "outputs": [],
   "source": []
  },
  {
   "cell_type": "code",
   "execution_count": null,
   "id": "f9d0d235",
   "metadata": {},
   "outputs": [],
   "source": []
  }
 ],
 "metadata": {
  "kernelspec": {
   "display_name": "Python 3",
   "language": "python",
   "name": "python3"
  },
  "language_info": {
   "codemirror_mode": {
    "name": "ipython",
    "version": 3
   },
   "file_extension": ".py",
   "mimetype": "text/x-python",
   "name": "python",
   "nbconvert_exporter": "python",
   "pygments_lexer": "ipython3",
   "version": "3.8.8"
  }
 },
 "nbformat": 4,
 "nbformat_minor": 5
}
